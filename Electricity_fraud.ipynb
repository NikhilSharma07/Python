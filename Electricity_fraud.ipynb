{
  "nbformat": 4,
  "nbformat_minor": 0,
  "metadata": {
    "colab": {
      "name": "Untitled0.ipynb",
      "provenance": [],
      "collapsed_sections": [],
      "toc_visible": true
    },
    "kernelspec": {
      "name": "python3",
      "display_name": "Python 3"
    },
    "language_info": {
      "name": "python"
    },
    "accelerator": "TPU"
  },
  "cells": [
    {
      "cell_type": "code",
      "metadata": {
        "id": "Dlg93VzSb-I6",
        "colab": {
          "base_uri": "https://localhost:8080/"
        },
        "outputId": "0e5680c7-f62c-4f72-9db6-77720a46b4ae"
      },
      "source": [
        "from google.colab import drive\n",
        "drive.mount('/content/drive')"
      ],
      "execution_count": null,
      "outputs": [
        {
          "output_type": "stream",
          "text": [
            "Go to this URL in a browser: https://accounts.google.com/o/oauth2/auth?client_id=947318989803-6bn6qk8qdgf4n4g3pfee6491hc0brc4i.apps.googleusercontent.com&redirect_uri=urn%3aietf%3awg%3aoauth%3a2.0%3aoob&scope=email%20https%3a%2f%2fwww.googleapis.com%2fauth%2fdocs.test%20https%3a%2f%2fwww.googleapis.com%2fauth%2fdrive%20https%3a%2f%2fwww.googleapis.com%2fauth%2fdrive.photos.readonly%20https%3a%2f%2fwww.googleapis.com%2fauth%2fpeopleapi.readonly%20https%3a%2f%2fwww.googleapis.com%2fauth%2fdrive.activity.readonly%20https%3a%2f%2fwww.googleapis.com%2fauth%2fexperimentsandconfigs%20https%3a%2f%2fwww.googleapis.com%2fauth%2fphotos.native&response_type=code\n",
            "\n",
            "Enter your authorization code:\n",
            "4/1AY0e-g5L2SByv4bAOAKEAsLbixcHD4EJAp8hLl7flx7fSwgqCvQSB91_0o0\n",
            "Mounted at /content/drive\n"
          ],
          "name": "stdout"
        }
      ]
    },
    {
      "cell_type": "markdown",
      "metadata": {
        "id": "AA47yp8_a3Du"
      },
      "source": [
        "## Mounting Drive"
      ]
    },
    {
      "cell_type": "markdown",
      "metadata": {
        "id": "OXYjj_3Y-VDc"
      },
      "source": [
        "Variable definitions\n",
        "\n",
        "Client:\n",
        "\n",
        "    Client_id: Unique id for client\n",
        "    District: District where the client is\n",
        "    Client_catg: Category client belongs to\n",
        "    Region: Area where the client is\n",
        "    Creation_date: Date client joined\n",
        "    Target: fraud:1 , not fraud: 0\n",
        "\n",
        "Invoice data\n",
        "\n",
        "    Client_id: Unique id for the client\n",
        "    Invoice_date: Date of the invoice\n",
        "    Tarif_type: Type of tax\n",
        "    Counter_number:\n",
        "    Counter_statue: takes up to 5 values such as working fine, not working, on hold statue, ect\n",
        "    Counter_code:\n",
        "    Reading_remarque: notes that the STEG agent takes during his visit to the client (e.g: If the counter shows something wrong, the agent gives a bad score)\n",
        "    Counter_coefficient: An additional coefficient to be added when standard consumption is exceeded\n",
        "    Consommation_level_1: Consumption_level_1\n",
        "    Consommation_level_2: Consumption_level_2\n",
        "    Consommation_level_3: Consumption_level_3\n",
        "    Consommation_level_4: Consumption_level_4\n",
        "    Old_index: Old index\n",
        "    New_index: New index\n",
        "    Months_number: Month number\n",
        "    Counter_type: Type of counter\n"
      ]
    },
    {
      "cell_type": "markdown",
      "metadata": {
        "id": "Dx9lRNbv-Ux5"
      },
      "source": [
        ""
      ]
    },
    {
      "cell_type": "code",
      "metadata": {
        "id": "85KmOIMLnCDk"
      },
      "source": [
        "import numpy as np\n",
        "import pandas as pd\n",
        "import matplotlib.pyplot as plt\n",
        "import seaborn as sns\n",
        "from sklearn import preprocessing\n",
        "from sklearn.metrics import roc_auc_score\n",
        "from sklearn.model_selection import StratifiedKFold\n",
        "from lightgbm import LGBMClassifier\n",
        "import time"
      ],
      "execution_count": null,
      "outputs": []
    },
    {
      "cell_type": "code",
      "metadata": {
        "id": "AETz8crTnX_I"
      },
      "source": [
        "\n",
        "invoice_train = pd.read_csv('/content/drive/My Drive/invoice_train.csv',low_memory=False)\n",
        "client_train = pd.read_csv('/content/drive/My Drive/client_train (1).csv',low_memory=False)"
      ],
      "execution_count": null,
      "outputs": []
    },
    {
      "cell_type": "code",
      "metadata": {
        "colab": {
          "base_uri": "https://localhost:8080/"
        },
        "id": "VqdufQzpwvk4",
        "outputId": "49e61672-b917-407b-9a1a-7360633c89ef"
      },
      "source": [
        "client_train.isnull().sum()"
      ],
      "execution_count": null,
      "outputs": [
        {
          "output_type": "execute_result",
          "data": {
            "text/plain": [
              "disrict          0\n",
              "client_id        0\n",
              "client_catg      0\n",
              "region           0\n",
              "creation_date    0\n",
              "target           0\n",
              "dtype: int64"
            ]
          },
          "metadata": {
            "tags": []
          },
          "execution_count": 7
        }
      ]
    },
    {
      "cell_type": "code",
      "metadata": {
        "id": "KUXJkNE3nbN4",
        "colab": {
          "base_uri": "https://localhost:8080/"
        },
        "outputId": "4095c18c-79e5-4cab-e644-7c24aa877ba2"
      },
      "source": [
        "invoice_train.isnull().sum()"
      ],
      "execution_count": null,
      "outputs": [
        {
          "output_type": "execute_result",
          "data": {
            "text/plain": [
              "client_id               0\n",
              "invoice_date            0\n",
              "tarif_type              0\n",
              "counter_number          0\n",
              "counter_statue          0\n",
              "counter_code            0\n",
              "reading_remarque        0\n",
              "counter_coefficient     0\n",
              "consommation_level_1    0\n",
              "consommation_level_2    0\n",
              "consommation_level_3    0\n",
              "consommation_level_4    0\n",
              "old_index               0\n",
              "new_index               0\n",
              "months_number           0\n",
              "counter_type            0\n",
              "dtype: int64"
            ]
          },
          "metadata": {
            "tags": []
          },
          "execution_count": 8
        }
      ]
    },
    {
      "cell_type": "markdown",
      "metadata": {
        "id": "boSv1N2L1i_8"
      },
      "source": [
        "## EDA"
      ]
    },
    {
      "cell_type": "code",
      "metadata": {
        "colab": {
          "base_uri": "https://localhost:8080/",
          "height": 281
        },
        "id": "bCZ7fJ5upGc9",
        "outputId": "359ed0c1-805e-4c41-dc24-3faa45b45190"
      },
      "source": [
        "ds = client_train.groupby(['target'])['client_id'].count()\n",
        "plt.bar(x=ds.index, height=ds.values, tick_label =[0,1])\n",
        "plt.title('target distribution')\n",
        "plt.show()"
      ],
      "execution_count": null,
      "outputs": [
        {
          "output_type": "display_data",
          "data": {
            "image/png": "[encoded data removed]",
            "text/plain": [
              "<Figure size 432x288 with 1 Axes>"
            ]
          },
          "metadata": {
            "tags": [],
            "needs_background": "light"
          }
        }
      ]
    },
    {
      "cell_type": "code",
      "metadata": {
        "id": "m3jOCEpzpQPb",
        "colab": {
          "base_uri": "https://localhost:8080/",
          "height": 809
        },
        "outputId": "a3bc703f-ddf4-4d34-91d4-2e2acaf5a914"
      },
      "source": [
        "for col in ['disrict','region','client_catg']:\n",
        "    ds = client_train.groupby([col])['client_id'].count()\n",
        "    plt.bar(x=ds.index, height=ds.values)\n",
        "    plt.title(col+' distribution')\n",
        "    plt.show()"
      ],
      "execution_count": null,
      "outputs": [
        {
          "output_type": "display_data",
          "data": {
            "image/png": "[encoded data removed]",
            "text/plain": [
              "<Figure size 432x288 with 1 Axes>"
            ]
          },
          "metadata": {
            "tags": [],
            "needs_background": "light"
          }
        },
        {
          "output_type": "display_data",
          "data": {
            "image/png": "[encoded data removed]",
            "text/plain": [
              "<Figure size 432x288 with 1 Axes>"
            ]
          },
          "metadata": {
            "tags": [],
            "needs_background": "light"
          }
        },
        {
          "output_type": "display_data",
          "data": {
            "image/png": "[encoded data removed]",
            "text/plain": [
              "<Figure size 432x288 with 1 Axes>"
            ]
          },
          "metadata": {
            "tags": [],
            "needs_background": "light"
          }
        }
      ]
    },
    {
      "cell_type": "code",
      "metadata": {
        "id": "7ZgfGERG5Pvk",
        "colab": {
          "base_uri": "https://localhost:8080/"
        },
        "outputId": "11be681b-ef51-493a-d306-744601a0ee16"
      },
      "source": [
        "print('Number of unique values in invoice_train:')\n",
        "for col in invoice_train.columns:\n",
        "    print(f\"{col} - {invoice_train[col].nunique()}\")"
      ],
      "execution_count": null,
      "outputs": [
        {
          "output_type": "stream",
          "text": [
            "Number of unique values in invoice_train:\n",
            "client_id - 135493\n",
            "invoice_date - 8275\n",
            "tarif_type - 17\n",
            "counter_number - 201893\n",
            "counter_statue - 12\n",
            "counter_code - 42\n",
            "reading_remarque - 8\n",
            "counter_coefficient - 16\n",
            "consommation_level_1 - 8295\n",
            "consommation_level_2 - 12576\n",
            "consommation_level_3 - 2253\n",
            "consommation_level_4 - 12075\n",
            "old_index - 155648\n",
            "new_index - 157980\n",
            "months_number - 1370\n",
            "counter_type - 2\n"
          ],
          "name": "stdout"
        }
      ]
    },
    {
      "cell_type": "code",
      "metadata": {
        "id": "gXheJ0sakabl"
      },
      "source": [
        "pd.options.display.max_rows = 999 \n",
        "pd.options.display.max_columns=999"
      ],
      "execution_count": null,
      "outputs": []
    },
    {
      "cell_type": "code",
      "metadata": {
        "id": "Bym3LGX1ukLg",
        "colab": {
          "base_uri": "https://localhost:8080/"
        },
        "outputId": "5b832ae6-ceb6-4f9f-f81d-7b116206810c"
      },
      "source": [
        "client_train.info()"
      ],
      "execution_count": null,
      "outputs": [
        {
          "output_type": "stream",
          "text": [
            "<class 'pandas.core.frame.DataFrame'>\n",
            "RangeIndex: 135493 entries, 0 to 135492\n",
            "Data columns (total 6 columns):\n",
            " #   Column         Non-Null Count   Dtype  \n",
            "---  ------         --------------   -----  \n",
            " 0   disrict        135493 non-null  int64  \n",
            " 1   client_id      135493 non-null  object \n",
            " 2   client_catg    135493 non-null  int64  \n",
            " 3   region         135493 non-null  int64  \n",
            " 4   creation_date  135493 non-null  object \n",
            " 5   target         135493 non-null  float64\n",
            "dtypes: float64(1), int64(3), object(2)\n",
            "memory usage: 6.2+ MB\n"
          ],
          "name": "stdout"
        }
      ]
    },
    {
      "cell_type": "code",
      "metadata": {
        "id": "7t95FX7NvntM",
        "colab": {
          "base_uri": "https://localhost:8080/"
        },
        "outputId": "524ca4d5-62c6-4647-dcdd-9a7b9e451145"
      },
      "source": [
        "invoice_train.info()"
      ],
      "execution_count": null,
      "outputs": [
        {
          "output_type": "stream",
          "text": [
            "<class 'pandas.core.frame.DataFrame'>\n",
            "RangeIndex: 4476749 entries, 0 to 4476748\n",
            "Data columns (total 16 columns):\n",
            " #   Column                Dtype \n",
            "---  ------                ----- \n",
            " 0   client_id             object\n",
            " 1   invoice_date          object\n",
            " 2   tarif_type            int64 \n",
            " 3   counter_number        int64 \n",
            " 4   counter_statue        object\n",
            " 5   counter_code          int64 \n",
            " 6   reading_remarque      int64 \n",
            " 7   counter_coefficient   int64 \n",
            " 8   consommation_level_1  int64 \n",
            " 9   consommation_level_2  int64 \n",
            " 10  consommation_level_3  int64 \n",
            " 11  consommation_level_4  int64 \n",
            " 12  old_index             int64 \n",
            " 13  new_index             int64 \n",
            " 14  months_number         int64 \n",
            " 15  counter_type          object\n",
            "dtypes: int64(12), object(4)\n",
            "memory usage: 546.5+ MB\n"
          ],
          "name": "stdout"
        }
      ]
    },
    {
      "cell_type": "code",
      "metadata": {
        "id": "Soq-UqvFKhgm"
      },
      "source": [
        "def feature_change(cl, inv):\n",
        "\n",
        "    cl['client_catg'] = cl['client_catg'].astype('category')\n",
        "    cl['disrict'] = cl['disrict'].astype('category')\n",
        "    cl['region'] = cl['region'].astype('category')\n",
        "    cl['region_group'] = cl['region'].apply(lambda x: 100 if x<100 else 300 if x>300 else 200)\n",
        "    cl['creation_date'] = pd.to_datetime(cl['creation_date'])\n",
        "    \n",
        "    cl['coop_time'] = (2019 - cl['creation_date'].dt.year)*12 - cl['creation_date'].dt.month\n",
        "\n",
        "    inv['counter_type'] = inv['counter_type'].map({\"ELEC\":1,\"GAZ\":0})\n",
        "    inv['counter_statue'] = inv['counter_statue'].map({0:0,1:1,2:2,3:3,4:4,5:5,769:5,'0':0,'1':1,'2':2,'3':3,'4':4,'5':5,'A':0})\n",
        "    \n",
        "    inv['invoice_date'] = pd.to_datetime(inv['invoice_date'], dayfirst=True)\n",
        "    inv['invoice_month'] = inv['invoice_date'].dt.month\n",
        "    inv['invoice_year'] = inv['invoice_date'].dt.year\n",
        "    inv['is_weekday'] = ((pd.DatetimeIndex(inv.invoice_date).dayofweek) // 5 == 1).astype(float)\n",
        "    inv['delta_index'] = inv['new_index'] - inv['old_index']\n",
        "    \n",
        "    return cl, inv\n",
        "\n"
      ],
      "execution_count": null,
      "outputs": []
    },
    {
      "cell_type": "code",
      "metadata": {
        "id": "NLFlqstuKn_8"
      },
      "source": [
        "client_train1, invoice_train1 = feature_change(client_train, invoice_train)"
      ],
      "execution_count": null,
      "outputs": []
    },
    {
      "cell_type": "code",
      "metadata": {
        "colab": {
          "base_uri": "https://localhost:8080/"
        },
        "id": "sN9SRWusOJL6",
        "outputId": "fe01c52e-ecaf-4a9d-9f34-86debbfb6c57"
      },
      "source": [
        "client_train1.isnull().sum()"
      ],
      "execution_count": null,
      "outputs": [
        {
          "output_type": "execute_result",
          "data": {
            "text/plain": [
              "disrict          0\n",
              "client_id        0\n",
              "client_catg      0\n",
              "region           0\n",
              "creation_date    0\n",
              "target           0\n",
              "region_group     0\n",
              "coop_time        0\n",
              "dtype: int64"
            ]
          },
          "metadata": {
            "tags": []
          },
          "execution_count": 17
        }
      ]
    },
    {
      "cell_type": "code",
      "metadata": {
        "colab": {
          "base_uri": "https://localhost:8080/"
        },
        "id": "mD0B6JtpjB5G",
        "outputId": "b9561530-8a12-4b8a-9204-b1530f9b03e6"
      },
      "source": [
        "invoice_train1.isnull().sum()"
      ],
      "execution_count": null,
      "outputs": [
        {
          "output_type": "execute_result",
          "data": {
            "text/plain": [
              "client_id                0\n",
              "invoice_date             0\n",
              "tarif_type               0\n",
              "counter_number           0\n",
              "counter_statue          34\n",
              "counter_code             0\n",
              "reading_remarque         0\n",
              "counter_coefficient      0\n",
              "consommation_level_1     0\n",
              "consommation_level_2     0\n",
              "consommation_level_3     0\n",
              "consommation_level_4     0\n",
              "old_index                0\n",
              "new_index                0\n",
              "months_number            0\n",
              "counter_type             0\n",
              "invoice_month            0\n",
              "invoice_year             0\n",
              "is_weekday               0\n",
              "delta_index              0\n",
              "dtype: int64"
            ]
          },
          "metadata": {
            "tags": []
          },
          "execution_count": 18
        }
      ]
    },
    {
      "cell_type": "code",
      "metadata": {
        "colab": {
          "base_uri": "https://localhost:8080/"
        },
        "id": "QAUVAYtt2__C",
        "outputId": "85ab2bf4-c71c-4ce7-a1c0-73b696441ddb"
      },
      "source": [
        "invoice_train1['counter_statue']=invoice_train1['counter_statue'].fillna(5)\n",
        "invoice_train1.isnull().sum()"
      ],
      "execution_count": null,
      "outputs": [
        {
          "output_type": "execute_result",
          "data": {
            "text/plain": [
              "client_id               0\n",
              "invoice_date            0\n",
              "tarif_type              0\n",
              "counter_number          0\n",
              "counter_statue          0\n",
              "counter_code            0\n",
              "reading_remarque        0\n",
              "counter_coefficient     0\n",
              "consommation_level_1    0\n",
              "consommation_level_2    0\n",
              "consommation_level_3    0\n",
              "consommation_level_4    0\n",
              "old_index               0\n",
              "new_index               0\n",
              "months_number           0\n",
              "counter_type            0\n",
              "invoice_month           0\n",
              "invoice_year            0\n",
              "is_weekday              0\n",
              "delta_index             0\n",
              "dtype: int64"
            ]
          },
          "metadata": {
            "tags": []
          },
          "execution_count": 19
        }
      ]
    },
    {
      "cell_type": "markdown",
      "metadata": {
        "id": "uDnJI3KRa_4m"
      },
      "source": [
        "## Feature Engineering"
      ]
    },
    {
      "cell_type": "code",
      "metadata": {
        "id": "Smq0Mn2hMBSy"
      },
      "source": [
        "def agg_feature(invoice, client_df, agg_stat):\n",
        "    \n",
        "    invoice['delta_time'] = invoice.sort_values(['client_id','invoice_date']).groupby('client_id')['invoice_date'].diff().dt.days.reset_index(drop=True)\n",
        "    agg_trans = invoice.groupby('client_id')[agg_stat+['delta_time']].agg(['mean','std','min','max'])\n",
        "    \n",
        "    agg_trans.columns = ['_'.join(col).strip() for col in agg_trans.columns.values]\n",
        "    agg_trans.reset_index(inplace=True)\n",
        "\n",
        "    df = invoice.groupby('client_id').size().reset_index(name='transactions_count')\n",
        "    agg_trans = pd.merge(df, agg_trans, on='client_id', how='left')\n",
        "    \n",
        "    weekday_avg = invoice.groupby('client_id')[['is_weekday']].agg(['mean'])\n",
        "    weekday_avg.columns = ['_'.join(col).strip() for col in weekday_avg.columns.values]\n",
        "    weekday_avg.reset_index(inplace=True)\n",
        "    client_df = pd.merge(client_df, weekday_avg, on='client_id', how='left')\n",
        "    \n",
        "    full_df = pd.merge(client_df, agg_trans, on='client_id', how='left')\n",
        "    \n",
        "    full_df['invoice_per_cooperation'] = full_df['transactions_count'] / full_df['coop_time']\n",
        "    \n",
        "    return full_df"
      ],
      "execution_count": null,
      "outputs": []
    },
    {
      "cell_type": "code",
      "metadata": {
        "id": "eRS-Ly-pytfi"
      },
      "source": [
        "agg_stat_columns = [\n",
        " 'tarif_type',\n",
        " 'counter_number',\n",
        " 'counter_statue',\n",
        " 'counter_code',\n",
        " 'reading_remarque',\n",
        " 'consommation_level_1',\n",
        " 'consommation_level_2',\n",
        " 'consommation_level_3',\n",
        " 'consommation_level_4',\n",
        " 'old_index',\n",
        " 'new_index',\n",
        " 'months_number',\n",
        " 'counter_type',\n",
        " 'invoice_month',\n",
        " 'invoice_year',\n",
        " 'delta_index'\n",
        "]\n",
        "\n",
        "train_df1 = agg_feature(invoice_train1, client_train1, agg_stat_columns)"
      ],
      "execution_count": null,
      "outputs": []
    },
    {
      "cell_type": "code",
      "metadata": {
        "id": "6O0sWJrkyxcu"
      },
      "source": [
        "def new_features(df):\n",
        "    \n",
        "    for col in agg_stat_columns:\n",
        "        df[col+'_range'] = df[col+'_max'] - df[col+'_min']\n",
        "        df[col+'_max_mean'] = df[col+'_max']/df[col+'_mean']\n",
        "    \n",
        "    return df"
      ],
      "execution_count": null,
      "outputs": []
    },
    {
      "cell_type": "code",
      "metadata": {
        "id": "2OTf3HlMzd7B"
      },
      "source": [
        "train_df2 = new_features(train_df1)"
      ],
      "execution_count": null,
      "outputs": []
    },
    {
      "cell_type": "code",
      "metadata": {
        "colab": {
          "base_uri": "https://localhost:8080/"
        },
        "id": "_ZwoZKDXzm7t",
        "outputId": "6e44da08-fa00-4653-fc94-bb73ce21ed5c"
      },
      "source": [
        "print('Initial number of columns: ', len(client_train.columns)+len(invoice_train.columns))\n",
        "print('Number of columns now: ', len(train_df2.columns))"
      ],
      "execution_count": null,
      "outputs": [
        {
          "output_type": "stream",
          "text": [
            "Initial number of columns:  29\n",
            "Number of columns now:  111\n"
          ],
          "name": "stdout"
        }
      ]
    },
    {
      "cell_type": "code",
      "metadata": {
        "id": "Cv9XBSXdzpDq"
      },
      "source": [
        "def drop(df):\n",
        "\n",
        "    col_drop = ['client_id', 'creation_date']\n",
        "    for col in col_drop:\n",
        "        df.drop([col], axis=1, inplace=True)\n",
        "    return df"
      ],
      "execution_count": null,
      "outputs": []
    },
    {
      "cell_type": "code",
      "metadata": {
        "colab": {
          "base_uri": "https://localhost:8080/"
        },
        "id": "PDBF8EjfIr7a",
        "outputId": "af24957c-c5fa-4cfd-8784-9b54afc271dc"
      },
      "source": [
        "train_df2.shape"
      ],
      "execution_count": null,
      "outputs": [
        {
          "output_type": "execute_result",
          "data": {
            "text/plain": [
              "(135493, 111)"
            ]
          },
          "metadata": {
            "tags": []
          },
          "execution_count": 26
        }
      ]
    },
    {
      "cell_type": "code",
      "metadata": {
        "id": "j_CO_-f7zrPZ"
      },
      "source": [
        "train_df = drop(train_df2)"
      ],
      "execution_count": null,
      "outputs": []
    },
    {
      "cell_type": "code",
      "metadata": {
        "id": "vnOlXhEfzvlR"
      },
      "source": [
        "y = train_df['target']\n",
        "X = train_df.drop('target',axis=1)\n",
        "\n",
        "feature_name = X.columns.tolist()"
      ],
      "execution_count": null,
      "outputs": []
    },
    {
      "cell_type": "code",
      "metadata": {
        "id": "2IsmmsLoOWk6",
        "colab": {
          "base_uri": "https://localhost:8080/"
        },
        "outputId": "19549c7c-c390-4910-86d2-dc455a8b11b3"
      },
      "source": [
        "X.shape"
      ],
      "execution_count": null,
      "outputs": [
        {
          "output_type": "execute_result",
          "data": {
            "text/plain": [
              "(135493, 108)"
            ]
          },
          "metadata": {
            "tags": []
          },
          "execution_count": 29
        }
      ]
    },
    {
      "cell_type": "code",
      "metadata": {
        "id": "-1w0pLKp9pTR",
        "colab": {
          "base_uri": "https://localhost:8080/"
        },
        "outputId": "4b87dacb-3b2d-4cea-be3f-5295b30e3712"
      },
      "source": [
        "#claculating the number of null value in all columns\n",
        "null_per=(X.isnull().sum()/len(X)*100)\n",
        "null_per"
      ],
      "execution_count": null,
      "outputs": [
        {
          "output_type": "execute_result",
          "data": {
            "text/plain": [
              "disrict                           0.000000\n",
              "client_catg                       0.000000\n",
              "region                            0.000000\n",
              "region_group                      0.000000\n",
              "coop_time                         0.000000\n",
              "is_weekday_mean                   0.000000\n",
              "transactions_count                0.000000\n",
              "tarif_type_mean                   0.000000\n",
              "tarif_type_std                    3.108648\n",
              "tarif_type_min                    0.000000\n",
              "tarif_type_max                    0.000000\n",
              "counter_number_mean               0.000000\n",
              "counter_number_std                3.108648\n",
              "counter_number_min                0.000000\n",
              "counter_number_max                0.000000\n",
              "counter_statue_mean               0.000000\n",
              "counter_statue_std                3.108648\n",
              "counter_statue_min                0.000000\n",
              "counter_statue_max                0.000000\n",
              "counter_code_mean                 0.000000\n",
              "counter_code_std                  3.108648\n",
              "counter_code_min                  0.000000\n",
              "counter_code_max                  0.000000\n",
              "reading_remarque_mean             0.000000\n",
              "reading_remarque_std              3.108648\n",
              "reading_remarque_min              0.000000\n",
              "reading_remarque_max              0.000000\n",
              "consommation_level_1_mean         0.000000\n",
              "consommation_level_1_std          3.108648\n",
              "consommation_level_1_min          0.000000\n",
              "consommation_level_1_max          0.000000\n",
              "consommation_level_2_mean         0.000000\n",
              "consommation_level_2_std          3.108648\n",
              "consommation_level_2_min          0.000000\n",
              "consommation_level_2_max          0.000000\n",
              "consommation_level_3_mean         0.000000\n",
              "consommation_level_3_std          3.108648\n",
              "consommation_level_3_min          0.000000\n",
              "consommation_level_3_max          0.000000\n",
              "consommation_level_4_mean         0.000000\n",
              "consommation_level_4_std          3.108648\n",
              "consommation_level_4_min          0.000000\n",
              "consommation_level_4_max          0.000000\n",
              "old_index_mean                    0.000000\n",
              "old_index_std                     3.108648\n",
              "old_index_min                     0.000000\n",
              "old_index_max                     0.000000\n",
              "new_index_mean                    0.000000\n",
              "new_index_std                     3.108648\n",
              "new_index_min                     0.000000\n",
              "new_index_max                     0.000000\n",
              "months_number_mean                0.000000\n",
              "months_number_std                 3.108648\n",
              "months_number_min                 0.000000\n",
              "months_number_max                 0.000000\n",
              "counter_type_mean                 0.000000\n",
              "counter_type_std                  3.108648\n",
              "counter_type_min                  0.000000\n",
              "counter_type_max                  0.000000\n",
              "invoice_month_mean                0.000000\n",
              "invoice_month_std                 3.108648\n",
              "invoice_month_min                 0.000000\n",
              "invoice_month_max                 0.000000\n",
              "invoice_year_mean                 0.000000\n",
              "invoice_year_std                  3.108648\n",
              "invoice_year_min                  0.000000\n",
              "invoice_year_max                  0.000000\n",
              "delta_index_mean                  0.000000\n",
              "delta_index_std                   3.108648\n",
              "delta_index_min                   0.000000\n",
              "delta_index_max                   0.000000\n",
              "delta_time_mean                   3.108648\n",
              "delta_time_std                    7.075642\n",
              "delta_time_min                    3.108648\n",
              "delta_time_max                    3.108648\n",
              "invoice_per_cooperation           0.000000\n",
              "tarif_type_range                  0.000000\n",
              "tarif_type_max_mean               0.000000\n",
              "counter_number_range              0.000000\n",
              "counter_number_max_mean           0.008119\n",
              "counter_statue_range              0.000000\n",
              "counter_statue_max_mean          67.500166\n",
              "counter_code_range                0.000000\n",
              "counter_code_max_mean             0.001476\n",
              "reading_remarque_range            0.000000\n",
              "reading_remarque_max_mean         0.000000\n",
              "consommation_level_1_range        0.000000\n",
              "consommation_level_1_max_mean     2.600872\n",
              "consommation_level_2_range        0.000000\n",
              "consommation_level_2_max_mean    43.211826\n",
              "consommation_level_3_range        0.000000\n",
              "consommation_level_3_max_mean    70.936506\n",
              "consommation_level_4_range        0.000000\n",
              "consommation_level_4_max_mean    86.502624\n",
              "old_index_range                   0.000000\n",
              "old_index_max_mean                3.065841\n",
              "new_index_range                   0.000000\n",
              "new_index_max_mean                1.530706\n",
              "months_number_range               0.000000\n",
              "months_number_max_mean            0.000000\n",
              "counter_type_range                0.000000\n",
              "counter_type_max_mean             0.500395\n",
              "invoice_month_range               0.000000\n",
              "invoice_month_max_mean            0.000000\n",
              "invoice_year_range                0.000000\n",
              "invoice_year_max_mean             0.000000\n",
              "delta_index_range                 0.000000\n",
              "delta_index_max_mean              2.620062\n",
              "dtype: float64"
            ]
          },
          "metadata": {
            "tags": []
          },
          "execution_count": 33
        }
      ]
    },
    {
      "cell_type": "code",
      "metadata": {
        "id": "y0wtAvRVHM2f"
      },
      "source": [
        "#dropping columns having more than forty percent null values\n",
        "X=X.dropna(thresh=X.shape[0]*0.6,how='all',axis=1)"
      ],
      "execution_count": null,
      "outputs": []
    },
    {
      "cell_type": "code",
      "metadata": {
        "id": "HRPJC5V7Hiju"
      },
      "source": [
        "# X.shape\n",
        "# X['delta_index_max_mean'].mean()\n",
        "# X.isnull().sum()"
      ],
      "execution_count": null,
      "outputs": []
    },
    {
      "cell_type": "code",
      "metadata": {
        "id": "J8AQw7VOzy1B"
      },
      "source": [
        "# drop_col=['counter_statue_max_mean','reading_remarque_max','counter_statue_min','counter_type_min','counter_type_max','counter_type_range',\n",
        "#           'tarif_type_max', 'delta_index_min', 'consommation_level_4_mean','consommation_level_2_max_mean','consommation_level_3_max_mean','consommation_level_4_max_mean']\n",
        "\n",
        "# X = X.drop(drop_col, axis=1)"
      ],
      "execution_count": null,
      "outputs": []
    },
    {
      "cell_type": "code",
      "metadata": {
        "id": "WwDmSF8l0K_T"
      },
      "source": [
        "num_columns=[col for col in X.columns if (X[col].dtype == 'int') or (X[col].dtype == 'float64')]"
      ],
      "execution_count": null,
      "outputs": []
    },
    {
      "cell_type": "code",
      "metadata": {
        "id": "mZCki0XUJsih"
      },
      "source": [
        ""
      ],
      "execution_count": null,
      "outputs": []
    },
    {
      "cell_type": "code",
      "metadata": {
        "id": "lZ8xqsujvXSy",
        "colab": {
          "base_uri": "https://localhost:8080/"
        },
        "outputId": "71291f10-68df-4aaf-e966-c04cd565aecd"
      },
      "source": [
        "# Input contains infinity or a value too large for dtype('float64').\n",
        "for col in num_columns:\n",
        "    X[col].replace([np.inf, -np.inf], 0, inplace=True)"
      ],
      "execution_count": null,
      "outputs": [
        {
          "output_type": "stream",
          "text": [
            "/usr/local/lib/python3.7/dist-packages/pandas/core/series.py:4582: SettingWithCopyWarning: \n",
            "A value is trying to be set on a copy of a slice from a DataFrame\n",
            "\n",
            "See the caveats in the documentation: https://pandas.pydata.org/pandas-docs/stable/user_guide/indexing.html#returning-a-view-versus-a-copy\n",
            "  method=method,\n"
          ],
          "name": "stderr"
        }
      ]
    },
    {
      "cell_type": "code",
      "metadata": {
        "id": "e_moCyCbKxr4",
        "colab": {
          "base_uri": "https://localhost:8080/"
        },
        "outputId": "c6580c94-b5a6-4679-8ea4-088a16395c05"
      },
      "source": [
        "#for numerical columns replacing null values with their Mean \n",
        "for col in num_columns:\n",
        "    X[col].replace(np.nan,X[col].mean() , inplace=True) "
      ],
      "execution_count": null,
      "outputs": [
        {
          "output_type": "stream",
          "text": [
            "/usr/local/lib/python3.7/dist-packages/pandas/core/series.py:4582: SettingWithCopyWarning: \n",
            "A value is trying to be set on a copy of a slice from a DataFrame\n",
            "\n",
            "See the caveats in the documentation: https://pandas.pydata.org/pandas-docs/stable/user_guide/indexing.html#returning-a-view-versus-a-copy\n",
            "  method=method,\n"
          ],
          "name": "stderr"
        }
      ]
    },
    {
      "cell_type": "code",
      "metadata": {
        "id": "vsKC0Es2L3Iw"
      },
      "source": [
        "cat_columns=[\"disrict\", \"client_catg\",\"region\"]\n",
        "#categorical columns have no null values"
      ],
      "execution_count": null,
      "outputs": []
    },
    {
      "cell_type": "code",
      "metadata": {
        "id": "BnIRN_ztF_CO"
      },
      "source": [
        ""
      ],
      "execution_count": null,
      "outputs": []
    },
    {
      "cell_type": "code",
      "metadata": {
        "id": "gmxVx78_76p9",
        "colab": {
          "base_uri": "https://localhost:8080/"
        },
        "outputId": "bb727a2d-2a78-4eb9-9549-a653d34141ae"
      },
      "source": [
        "np.all(np.isfinite(X))"
      ],
      "execution_count": null,
      "outputs": [
        {
          "output_type": "execute_result",
          "data": {
            "text/plain": [
              "True"
            ]
          },
          "metadata": {
            "tags": []
          },
          "execution_count": 41
        }
      ]
    },
    {
      "cell_type": "code",
      "metadata": {
        "id": "mW3eh02O_4pc",
        "colab": {
          "base_uri": "https://localhost:8080/"
        },
        "outputId": "3df42f54-83da-4714-80a6-929d5ac8f23a"
      },
      "source": [
        "X.isnull().sum()/len(X)*100"
      ],
      "execution_count": null,
      "outputs": [
        {
          "output_type": "execute_result",
          "data": {
            "text/plain": [
              "disrict                          0.0\n",
              "client_catg                      0.0\n",
              "region                           0.0\n",
              "region_group                     0.0\n",
              "coop_time                        0.0\n",
              "is_weekday_mean                  0.0\n",
              "transactions_count               0.0\n",
              "tarif_type_mean                  0.0\n",
              "tarif_type_std                   0.0\n",
              "tarif_type_min                   0.0\n",
              "tarif_type_max                   0.0\n",
              "counter_number_mean              0.0\n",
              "counter_number_std               0.0\n",
              "counter_number_min               0.0\n",
              "counter_number_max               0.0\n",
              "counter_statue_mean              0.0\n",
              "counter_statue_std               0.0\n",
              "counter_statue_min               0.0\n",
              "counter_statue_max               0.0\n",
              "counter_code_mean                0.0\n",
              "counter_code_std                 0.0\n",
              "counter_code_min                 0.0\n",
              "counter_code_max                 0.0\n",
              "reading_remarque_mean            0.0\n",
              "reading_remarque_std             0.0\n",
              "reading_remarque_min             0.0\n",
              "reading_remarque_max             0.0\n",
              "consommation_level_1_mean        0.0\n",
              "consommation_level_1_std         0.0\n",
              "consommation_level_1_min         0.0\n",
              "consommation_level_1_max         0.0\n",
              "consommation_level_2_mean        0.0\n",
              "consommation_level_2_std         0.0\n",
              "consommation_level_2_min         0.0\n",
              "consommation_level_2_max         0.0\n",
              "consommation_level_3_mean        0.0\n",
              "consommation_level_3_std         0.0\n",
              "consommation_level_3_min         0.0\n",
              "consommation_level_3_max         0.0\n",
              "consommation_level_4_mean        0.0\n",
              "consommation_level_4_std         0.0\n",
              "consommation_level_4_min         0.0\n",
              "consommation_level_4_max         0.0\n",
              "old_index_mean                   0.0\n",
              "old_index_std                    0.0\n",
              "old_index_min                    0.0\n",
              "old_index_max                    0.0\n",
              "new_index_mean                   0.0\n",
              "new_index_std                    0.0\n",
              "new_index_min                    0.0\n",
              "new_index_max                    0.0\n",
              "months_number_mean               0.0\n",
              "months_number_std                0.0\n",
              "months_number_min                0.0\n",
              "months_number_max                0.0\n",
              "counter_type_mean                0.0\n",
              "counter_type_std                 0.0\n",
              "counter_type_min                 0.0\n",
              "counter_type_max                 0.0\n",
              "invoice_month_mean               0.0\n",
              "invoice_month_std                0.0\n",
              "invoice_month_min                0.0\n",
              "invoice_month_max                0.0\n",
              "invoice_year_mean                0.0\n",
              "invoice_year_std                 0.0\n",
              "invoice_year_min                 0.0\n",
              "invoice_year_max                 0.0\n",
              "delta_index_mean                 0.0\n",
              "delta_index_std                  0.0\n",
              "delta_index_min                  0.0\n",
              "delta_index_max                  0.0\n",
              "delta_time_mean                  0.0\n",
              "delta_time_std                   0.0\n",
              "delta_time_min                   0.0\n",
              "delta_time_max                   0.0\n",
              "invoice_per_cooperation          0.0\n",
              "tarif_type_range                 0.0\n",
              "tarif_type_max_mean              0.0\n",
              "counter_number_range             0.0\n",
              "counter_number_max_mean          0.0\n",
              "counter_statue_range             0.0\n",
              "counter_code_range               0.0\n",
              "counter_code_max_mean            0.0\n",
              "reading_remarque_range           0.0\n",
              "reading_remarque_max_mean        0.0\n",
              "consommation_level_1_range       0.0\n",
              "consommation_level_1_max_mean    0.0\n",
              "consommation_level_2_range       0.0\n",
              "consommation_level_3_range       0.0\n",
              "consommation_level_4_range       0.0\n",
              "old_index_range                  0.0\n",
              "old_index_max_mean               0.0\n",
              "new_index_range                  0.0\n",
              "new_index_max_mean               0.0\n",
              "months_number_range              0.0\n",
              "months_number_max_mean           0.0\n",
              "counter_type_range               0.0\n",
              "counter_type_max_mean            0.0\n",
              "invoice_month_range              0.0\n",
              "invoice_month_max_mean           0.0\n",
              "invoice_year_range               0.0\n",
              "invoice_year_max_mean            0.0\n",
              "delta_index_range                0.0\n",
              "delta_index_max_mean             0.0\n",
              "dtype: float64"
            ]
          },
          "metadata": {
            "tags": []
          },
          "execution_count": 43
        }
      ]
    },
    {
      "cell_type": "markdown",
      "metadata": {
        "id": "5EybyiqebIZX"
      },
      "source": [
        "## Skewness removal"
      ]
    },
    {
      "cell_type": "code",
      "metadata": {
        "id": "p6bvSDf__4c4",
        "colab": {
          "base_uri": "https://localhost:8080/"
        },
        "outputId": "1770b7dc-bb6d-4495-a14b-8bdb6d82d3a0"
      },
      "source": [
        "skewed_col=[]\n",
        "for col in num_columns:\n",
        "    if (abs(X[col].skew())>0.5):\n",
        "        skewed_col.append(col)\n",
        "skewed_col    "
      ],
      "execution_count": null,
      "outputs": [
        {
          "output_type": "execute_result",
          "data": {
            "text/plain": [
              "['coop_time',\n",
              " 'is_weekday_mean',\n",
              " 'transactions_count',\n",
              " 'tarif_type_min',\n",
              " 'counter_number_mean',\n",
              " 'counter_number_std',\n",
              " 'counter_number_min',\n",
              " 'counter_number_max',\n",
              " 'counter_statue_mean',\n",
              " 'counter_statue_std',\n",
              " 'counter_statue_min',\n",
              " 'counter_statue_max',\n",
              " 'counter_code_mean',\n",
              " 'counter_code_std',\n",
              " 'counter_code_min',\n",
              " 'counter_code_max',\n",
              " 'reading_remarque_mean',\n",
              " 'reading_remarque_std',\n",
              " 'reading_remarque_min',\n",
              " 'reading_remarque_max',\n",
              " 'consommation_level_1_mean',\n",
              " 'consommation_level_1_std',\n",
              " 'consommation_level_1_min',\n",
              " 'consommation_level_1_max',\n",
              " 'consommation_level_2_mean',\n",
              " 'consommation_level_2_std',\n",
              " 'consommation_level_2_min',\n",
              " 'consommation_level_2_max',\n",
              " 'consommation_level_3_mean',\n",
              " 'consommation_level_3_std',\n",
              " 'consommation_level_3_min',\n",
              " 'consommation_level_3_max',\n",
              " 'consommation_level_4_mean',\n",
              " 'consommation_level_4_std',\n",
              " 'consommation_level_4_min',\n",
              " 'consommation_level_4_max',\n",
              " 'old_index_mean',\n",
              " 'old_index_std',\n",
              " 'old_index_min',\n",
              " 'old_index_max',\n",
              " 'new_index_mean',\n",
              " 'new_index_std',\n",
              " 'new_index_min',\n",
              " 'new_index_max',\n",
              " 'months_number_mean',\n",
              " 'months_number_std',\n",
              " 'months_number_min',\n",
              " 'months_number_max',\n",
              " 'counter_type_max',\n",
              " 'invoice_month_std',\n",
              " 'invoice_month_min',\n",
              " 'invoice_month_max',\n",
              " 'invoice_year_mean',\n",
              " 'invoice_year_max',\n",
              " 'delta_index_mean',\n",
              " 'delta_index_std',\n",
              " 'delta_index_min',\n",
              " 'delta_index_max',\n",
              " 'delta_time_mean',\n",
              " 'delta_time_std',\n",
              " 'delta_time_min',\n",
              " 'delta_time_max',\n",
              " 'invoice_per_cooperation',\n",
              " 'tarif_type_max_mean',\n",
              " 'counter_number_range',\n",
              " 'counter_number_max_mean',\n",
              " 'counter_statue_range',\n",
              " 'counter_code_range',\n",
              " 'counter_code_max_mean',\n",
              " 'reading_remarque_range',\n",
              " 'consommation_level_1_range',\n",
              " 'consommation_level_1_max_mean',\n",
              " 'consommation_level_2_range',\n",
              " 'consommation_level_3_range',\n",
              " 'consommation_level_4_range',\n",
              " 'old_index_range',\n",
              " 'old_index_max_mean',\n",
              " 'new_index_range',\n",
              " 'new_index_max_mean',\n",
              " 'months_number_range',\n",
              " 'months_number_max_mean',\n",
              " 'counter_type_max_mean',\n",
              " 'invoice_month_range',\n",
              " 'invoice_month_max_mean',\n",
              " 'delta_index_range',\n",
              " 'delta_index_max_mean']"
            ]
          },
          "metadata": {
            "tags": []
          },
          "execution_count": 44
        }
      ]
    },
    {
      "cell_type": "code",
      "metadata": {
        "id": "cO_UgfdwRDBD"
      },
      "source": [
        "# li=X.skew()\n",
        "# type(li)"
      ],
      "execution_count": null,
      "outputs": []
    },
    {
      "cell_type": "code",
      "metadata": {
        "id": "arFdlNJMtJsx"
      },
      "source": [
        "# # convert series to dataframe\n",
        "# li=li.to_frame()"
      ],
      "execution_count": null,
      "outputs": []
    },
    {
      "cell_type": "code",
      "metadata": {
        "id": "Pu6OWVf9WBPT"
      },
      "source": [
        "# for col in neg_skew_column:\n",
        "#   X[col]=np.log1p(X[col])"
      ],
      "execution_count": null,
      "outputs": []
    },
    {
      "cell_type": "code",
      "metadata": {
        "id": "PJv9vBHeXneD"
      },
      "source": [
        "# df=X.copy()"
      ],
      "execution_count": null,
      "outputs": []
    },
    {
      "cell_type": "code",
      "metadata": {
        "id": "LcHyjsUXl3pq"
      },
      "source": [
        ""
      ],
      "execution_count": null,
      "outputs": []
    },
    {
      "cell_type": "code",
      "metadata": {
        "id": "Nd6bcm_jl3mP"
      },
      "source": [
        ""
      ],
      "execution_count": null,
      "outputs": []
    },
    {
      "cell_type": "code",
      "metadata": {
        "id": "-C3HFHsYWBMo"
      },
      "source": [
        "# pos_skew_column=[]\n",
        "# neg_skew_column=[]\n",
        "# for i in range(len(li)):\n",
        "#   if li.iloc[i,0]>1:\n",
        "#     pos_skew_column.append(li.index[i])\n",
        "#   if li.iloc[i,0]<-1:\n",
        "#     neg_skew_column.append(li.index[i])"
      ],
      "execution_count": null,
      "outputs": []
    },
    {
      "cell_type": "code",
      "metadata": {
        "id": "rOenwJHvimw6"
      },
      "source": [
        "# for col in neg_skew_column:\n",
        "#   print(X[col].skew())"
      ],
      "execution_count": null,
      "outputs": []
    },
    {
      "cell_type": "code",
      "metadata": {
        "id": "SoY9K7TKWBJ4"
      },
      "source": [
        "\n",
        "# for col in neg_skew_column:\n",
        "#   X[col]=np.log1p(X[col])\n",
        "#   print(X[col].skew())"
      ],
      "execution_count": null,
      "outputs": []
    },
    {
      "cell_type": "code",
      "metadata": {
        "id": "vrcNFemkWBG_"
      },
      "source": [
        "for col in skewed_col:\n",
        "  X[col]=np.log1p(X[col])\n",
        "  print(X[col].skew())"
      ],
      "execution_count": null,
      "outputs": []
    },
    {
      "cell_type": "code",
      "metadata": {
        "id": "kDa82LhnovKL",
        "colab": {
          "base_uri": "https://localhost:8080/"
        },
        "outputId": "e7058112-0b84-42d5-8bf4-dcc9bf0fcf8e"
      },
      "source": [
        "X.skew()"
      ],
      "execution_count": null,
      "outputs": [
        {
          "output_type": "execute_result",
          "data": {
            "text/plain": [
              "region_group                      0.007572\n",
              "coop_time                              NaN\n",
              "is_weekday_mean                   1.533812\n",
              "transactions_count               -0.725086\n",
              "tarif_type_mean                   0.420622\n",
              "tarif_type_std                    0.165661\n",
              "tarif_type_min                   11.797209\n",
              "tarif_type_max                    0.160838\n",
              "counter_number_mean               2.140885\n",
              "counter_number_std                0.507519\n",
              "counter_number_min                1.447662\n",
              "counter_number_max                2.061568\n",
              "counter_statue_mean               6.262085\n",
              "counter_statue_std                2.080363\n",
              "counter_statue_min               14.129923\n",
              "counter_statue_max                1.511967\n",
              "counter_code_mean                -1.154832\n",
              "counter_code_std                  0.043945\n",
              "counter_code_min                 -0.129322\n",
              "counter_code_max                 -2.971575\n",
              "reading_remarque_mean             0.806517\n",
              "reading_remarque_std             -1.386249\n",
              "reading_remarque_min              3.059627\n",
              "reading_remarque_max             -1.624034\n",
              "consommation_level_1_mean        -2.476079\n",
              "consommation_level_1_std         -2.517871\n",
              "consommation_level_1_min          0.672129\n",
              "consommation_level_1_max         -2.762103\n",
              "consommation_level_2_mean         0.522162\n",
              "consommation_level_2_std          0.035489\n",
              "consommation_level_2_min          7.048272\n",
              "consommation_level_2_max         -0.020120\n",
              "consommation_level_3_mean         1.567166\n",
              "consommation_level_3_std          1.019887\n",
              "consommation_level_3_min         13.700562\n",
              "consommation_level_3_max          1.046866\n",
              "consommation_level_4_mean         3.024337\n",
              "consommation_level_4_std          2.176962\n",
              "consommation_level_4_min         18.571233\n",
              "consommation_level_4_max          2.378963\n",
              "old_index_mean                   -2.195148\n",
              "old_index_std                    -2.061747\n",
              "old_index_min                     0.463302\n",
              "old_index_max                    -2.518486\n",
              "new_index_mean                   -2.204021\n",
              "new_index_std                    -2.065670\n",
              "new_index_min                    -0.275542\n",
              "new_index_max                    -2.513837\n",
              "months_number_mean               12.119287\n",
              "months_number_std                 2.052425\n",
              "months_number_min                 4.410525\n",
              "months_number_max                 2.380880\n",
              "counter_type_mean                -0.426579\n",
              "counter_type_std                  0.170650\n",
              "counter_type_min                 -0.168651\n",
              "counter_type_max                -14.030380\n",
              "invoice_month_mean                0.030389\n",
              "invoice_month_std                -3.129425\n",
              "invoice_month_min                 1.046422\n",
              "invoice_month_max                -3.616093\n",
              "invoice_year_mean                -2.525341\n",
              "invoice_year_std                 -0.373145\n",
              "invoice_year_min                 -0.462435\n",
              "invoice_year_max                 -3.109788\n",
              "delta_index_mean                 -1.969646\n",
              "delta_index_std                  -1.351268\n",
              "delta_index_min                   0.746594\n",
              "delta_index_max                  -2.204559\n",
              "delta_time_mean                  -2.728389\n",
              "delta_time_std                   -2.217365\n",
              "delta_time_min                    0.579633\n",
              "delta_time_max                   -3.785574\n",
              "invoice_per_cooperation                NaN\n",
              "tarif_type_range                  0.182533\n",
              "tarif_type_max_mean               0.685929\n",
              "counter_number_range              0.508602\n",
              "counter_number_max_mean           3.601433\n",
              "counter_statue_range              1.544461\n",
              "counter_code_range                0.144865\n",
              "counter_code_max_mean             0.576006\n",
              "reading_remarque_range           -1.472816\n",
              "reading_remarque_max_mean         0.028408\n",
              "consommation_level_1_range       -2.380192\n",
              "consommation_level_1_max_mean     0.884319\n",
              "consommation_level_2_range       -0.000978\n",
              "consommation_level_3_range        1.057132\n",
              "consommation_level_4_range        2.393700\n",
              "old_index_range                  -2.074067\n",
              "old_index_max_mean                0.689260\n",
              "new_index_range                  -2.122039\n",
              "new_index_max_mean                0.772887\n",
              "months_number_range              -0.224450\n",
              "months_number_max_mean            0.548160\n",
              "counter_type_range                0.188908\n",
              "counter_type_max_mean             0.607412\n",
              "invoice_month_range              -3.146353\n",
              "invoice_month_max_mean            0.015166\n",
              "invoice_year_range               -0.302529\n",
              "invoice_year_max_mean            -0.232525\n",
              "delta_index_range                -1.803567\n",
              "delta_index_max_mean              1.018147\n",
              "dtype: float64"
            ]
          },
          "metadata": {
            "tags": []
          },
          "execution_count": 53
        }
      ]
    },
    {
      "cell_type": "code",
      "metadata": {
        "id": "arg9jif0uBuG",
        "colab": {
          "base_uri": "https://localhost:8080/"
        },
        "outputId": "cba6de97-eae0-4367-f4c6-f0a6737ac25d"
      },
      "source": [
        "X.replace([np.inf, -np.inf], np.nan, inplace=True)"
      ],
      "execution_count": null,
      "outputs": [
        {
          "output_type": "stream",
          "text": [
            "/usr/local/lib/python3.7/dist-packages/pandas/core/frame.py:4389: SettingWithCopyWarning: \n",
            "A value is trying to be set on a copy of a slice from a DataFrame\n",
            "\n",
            "See the caveats in the documentation: https://pandas.pydata.org/pandas-docs/stable/user_guide/indexing.html#returning-a-view-versus-a-copy\n",
            "  method=method,\n"
          ],
          "name": "stderr"
        }
      ]
    },
    {
      "cell_type": "code",
      "metadata": {
        "id": "zOizXbqIuBuI",
        "colab": {
          "base_uri": "https://localhost:8080/"
        },
        "outputId": "1eb0c707-b5dd-4e6a-bb34-6b007e6e217b"
      },
      "source": [
        "#for numerical columns replacing null values with their Mean \n",
        "for col in num_columns:\n",
        "    X[col].replace(np.nan,X[col].mean() , inplace=True) "
      ],
      "execution_count": null,
      "outputs": [
        {
          "output_type": "stream",
          "text": [
            "/usr/local/lib/python3.7/dist-packages/pandas/core/series.py:4582: SettingWithCopyWarning: \n",
            "A value is trying to be set on a copy of a slice from a DataFrame\n",
            "\n",
            "See the caveats in the documentation: https://pandas.pydata.org/pandas-docs/stable/user_guide/indexing.html#returning-a-view-versus-a-copy\n",
            "  method=method,\n"
          ],
          "name": "stderr"
        }
      ]
    },
    {
      "cell_type": "code",
      "metadata": {
        "colab": {
          "base_uri": "https://localhost:8080/"
        },
        "id": "eQmzOQl3uBuJ",
        "outputId": "c7a0a63a-6466-474a-93bb-9a912abc65b9"
      },
      "source": [
        "np.all(np.isfinite(X))"
      ],
      "execution_count": null,
      "outputs": [
        {
          "output_type": "execute_result",
          "data": {
            "text/plain": [
              "True"
            ]
          },
          "metadata": {
            "tags": []
          },
          "execution_count": 69
        }
      ]
    },
    {
      "cell_type": "code",
      "metadata": {
        "id": "1aGWsTanig1H"
      },
      "source": [
        "X.to_csv('/content/drive/My Drive/cleaned_X.csv')"
      ],
      "execution_count": null,
      "outputs": []
    },
    {
      "cell_type": "markdown",
      "metadata": {
        "id": "FCS3YgpfbbK5"
      },
      "source": [
        "# Applying SMOTE"
      ]
    },
    {
      "cell_type": "markdown",
      "metadata": {
        "id": "L7iEmowGiR0j"
      },
      "source": [
        "### Splitting the data"
      ]
    },
    {
      "cell_type": "code",
      "metadata": {
        "colab": {
          "base_uri": "https://localhost:8080/"
        },
        "id": "bPRgcSFRtNGz",
        "outputId": "50a7b260-bb90-4f61-fcec-3c663723246b"
      },
      "source": [
        "from imblearn.over_sampling import SMOTE\n",
        "\n",
        "x_resample, y_resample = SMOTE().fit_sample(X, y.values.ravel()) \n",
        "\n",
        "# checking the shape of x_resample and y_resample\n",
        "print(\"Shape of x:\", x_resample.shape)\n",
        "print(\"Shape of y:\", y_resample.shape)"
      ],
      "execution_count": null,
      "outputs": [
        {
          "output_type": "stream",
          "text": [
            "/usr/local/lib/python3.7/dist-packages/sklearn/externals/six.py:31: FutureWarning: The module is deprecated in version 0.21 and will be removed in version 0.23 since we've dropped support for Python 2.7. Please rely on the official version of six (https://pypi.org/project/six/).\n",
            "  \"(https://pypi.org/project/six/).\", FutureWarning)\n",
            "/usr/local/lib/python3.7/dist-packages/sklearn/utils/deprecation.py:144: FutureWarning: The sklearn.neighbors.base module is  deprecated in version 0.22 and will be removed in version 0.24. The corresponding classes / functions should instead be imported from sklearn.neighbors. Anything that cannot be imported from sklearn.neighbors is now part of the private API.\n",
            "  warnings.warn(message, FutureWarning)\n",
            "/usr/local/lib/python3.7/dist-packages/sklearn/utils/deprecation.py:87: FutureWarning: Function safe_indexing is deprecated; safe_indexing is deprecated in version 0.22 and will be removed in version 0.24.\n",
            "  warnings.warn(msg, category=FutureWarning)\n"
          ],
          "name": "stderr"
        },
        {
          "output_type": "stream",
          "text": [
            "Shape of x: (255854, 104)\n",
            "Shape of y: (255854,)\n"
          ],
          "name": "stdout"
        }
      ]
    },
    {
      "cell_type": "code",
      "metadata": {
        "colab": {
          "base_uri": "https://localhost:8080/"
        },
        "id": "Bm7S38MStM_m",
        "outputId": "0d22a077-07ae-477a-a2f3-8e5f2d2aba42"
      },
      "source": [
        "\n",
        "# train and valid sets from train\n",
        "from sklearn.model_selection import train_test_split\n",
        "\n",
        "x_train, x_valid, y_train, y_valid = train_test_split(x_resample, y_resample, test_size = 0.2, random_state = 0)\n",
        "\n",
        "# checking the shapes\n",
        "print(x_train.shape)\n",
        "print(y_train.shape)\n",
        "print(x_valid.shape)\n",
        "print(y_valid.shape)"
      ],
      "execution_count": null,
      "outputs": [
        {
          "output_type": "stream",
          "text": [
            "(204683, 104)\n",
            "(204683,)\n",
            "(51171, 104)\n",
            "(51171,)\n"
          ],
          "name": "stdout"
        }
      ]
    },
    {
      "cell_type": "code",
      "metadata": {
        "id": "rLgl-1-htM8e"
      },
      "source": [
        "# applying standardization\n",
        "\n",
        "from sklearn.preprocessing import StandardScaler\n",
        "\n",
        "sc = StandardScaler()\n",
        "x_train = sc.fit_transform(x_train)\n",
        "x_valid = sc.transform(x_valid)"
      ],
      "execution_count": null,
      "outputs": []
    },
    {
      "cell_type": "markdown",
      "metadata": {
        "id": "IBFe73rHboRT"
      },
      "source": [
        "### LOGISTIC REGRESSION CLASSIFIER"
      ]
    },
    {
      "cell_type": "code",
      "metadata": {
        "colab": {
          "base_uri": "https://localhost:8080/",
          "height": 605
        },
        "id": "LnmeV375tM5U",
        "outputId": "06871065-ee05-43cc-a756-665fdab2e7dc"
      },
      "source": [
        "# LOGISTIC REGRESSION CLASSIFIER\n",
        "\n",
        "from sklearn.linear_model import LogisticRegression\n",
        "from sklearn.metrics import confusion_matrix\n",
        "from sklearn.metrics import classification_report\n",
        "\n",
        "model_LG = LogisticRegression()\n",
        "model_LG.fit(x_train, y_train)\n",
        "\n",
        "y_pred = model_LG.predict(x_valid)\n",
        "\n",
        "print(\"Training Accuracy: \", model_LG.score(x_train, y_train))\n",
        "print('Testing Accuarcy: ', model_LG.score(x_valid, y_valid))\n",
        "\n",
        "# making a classification report\n",
        "cr = classification_report(y_valid,  y_pred)\n",
        "print(cr)\n",
        "\n",
        "# making a confusion matrix\n",
        "cm = confusion_matrix(y_valid, y_pred)\n",
        "sns.heatmap(cm, annot = True)"
      ],
      "execution_count": null,
      "outputs": [
        {
          "output_type": "stream",
          "text": [
            "/usr/local/lib/python3.7/dist-packages/sklearn/linear_model/_logistic.py:940: ConvergenceWarning: lbfgs failed to converge (status=1):\n",
            "STOP: TOTAL NO. of ITERATIONS REACHED LIMIT.\n",
            "\n",
            "Increase the number of iterations (max_iter) or scale the data as shown in:\n",
            "    https://scikit-learn.org/stable/modules/preprocessing.html\n",
            "Please also refer to the documentation for alternative solver options:\n",
            "    https://scikit-learn.org/stable/modules/linear_model.html#logistic-regression\n",
            "  extra_warning_msg=_LOGISTIC_SOLVER_CONVERGENCE_MSG)\n"
          ],
          "name": "stderr"
        },
        {
          "output_type": "stream",
          "text": [
            "Training Accuracy:  0.7642403130694781\n",
            "Testing Accuarcy:  0.7653358347501514\n",
            "              precision    recall  f1-score   support\n",
            "\n",
            "         0.0       0.77      0.75      0.76     25562\n",
            "         1.0       0.76      0.78      0.77     25609\n",
            "\n",
            "    accuracy                           0.77     51171\n",
            "   macro avg       0.77      0.77      0.77     51171\n",
            "weighted avg       0.77      0.77      0.77     51171\n",
            "\n"
          ],
          "name": "stdout"
        },
        {
          "output_type": "execute_result",
          "data": {
            "text/plain": [
              "<matplotlib.axes._subplots.AxesSubplot at 0x7f100f45ee50>"
            ]
          },
          "metadata": {
            "tags": []
          },
          "execution_count": 149
        },
        {
          "output_type": "display_data",
          "data": {
            "image/png": "[encoded data removed]",
            "text/plain": [
              "<Figure size 432x288 with 2 Axes>"
            ]
          },
          "metadata": {
            "tags": [],
            "needs_background": "light"
          }
        }
      ]
    },
    {
      "cell_type": "code",
      "metadata": {
        "colab": {
          "base_uri": "https://localhost:8080/"
        },
        "id": "hY_AGMpv3mP9",
        "outputId": "dfa78121-7c63-4cf1-982b-419efc00cd27"
      },
      "source": [
        "from sklearn.metrics import roc_auc_score\n",
        "print(\"auc score =\\t\" ,roc_auc_score(y_valid, y_pred))"
      ],
      "execution_count": null,
      "outputs": [
        {
          "output_type": "stream",
          "text": [
            "auc score =\t 0.7653250107255803\n"
          ],
          "name": "stdout"
        }
      ]
    },
    {
      "cell_type": "markdown",
      "metadata": {
        "id": "V0ltnjFT2KVm"
      },
      "source": [
        "### RANDOM FOREST CLASSIFIER"
      ]
    },
    {
      "cell_type": "code",
      "metadata": {
        "colab": {
          "base_uri": "https://localhost:8080/",
          "height": 473
        },
        "id": "HbtTnst7tM2C",
        "outputId": "446a5b2e-7386-400f-dfa2-37cbedb375fd"
      },
      "source": [
        "# RANDOM FOREST CLASSIFIER\n",
        "from sklearn.ensemble import RandomForestClassifier\n",
        "from sklearn.metrics import confusion_matrix\n",
        "from sklearn.metrics import classification_report\n",
        "\n",
        "model_rf = RandomForestClassifier()\n",
        "model_rf.fit(x_train, y_train)\n",
        "\n",
        "y_predrf = model_rf.predict(x_valid)\n",
        "\n",
        "print(\"Training Accuracy: \", model_rf.score(x_train, y_train))\n",
        "print('Testing Accuarcy: ', model_rf.score(x_valid, y_valid))\n",
        "\n",
        "# making a classification report\n",
        "cr = classification_report(y_valid,  y_predrf)\n",
        "print(cr)\n",
        "\n",
        "# making a confusion matrix\n",
        "cm = confusion_matrix(y_valid, y_predrf)\n",
        "sns.heatmap(cm, annot = True)"
      ],
      "execution_count": null,
      "outputs": [
        {
          "output_type": "stream",
          "text": [
            "Training Accuracy:  1.0\n",
            "Testing Accuarcy:  0.9778585526958629\n",
            "              precision    recall  f1-score   support\n",
            "\n",
            "         0.0       0.98      0.98      0.98     25562\n",
            "         1.0       0.98      0.98      0.98     25609\n",
            "\n",
            "    accuracy                           0.98     51171\n",
            "   macro avg       0.98      0.98      0.98     51171\n",
            "weighted avg       0.98      0.98      0.98     51171\n",
            "\n"
          ],
          "name": "stdout"
        },
        {
          "output_type": "execute_result",
          "data": {
            "text/plain": [
              "<matplotlib.axes._subplots.AxesSubplot at 0x7f1007643390>"
            ]
          },
          "metadata": {
            "tags": []
          },
          "execution_count": 151
        },
        {
          "output_type": "display_data",
          "data": {
            "image/png": "[encoded data removed]",
            "text/plain": [
              "<Figure size 432x288 with 2 Axes>"
            ]
          },
          "metadata": {
            "tags": [],
            "needs_background": "light"
          }
        }
      ]
    },
    {
      "cell_type": "code",
      "metadata": {
        "colab": {
          "base_uri": "https://localhost:8080/"
        },
        "id": "yUNQqkT6tMx9",
        "outputId": "94ab27af-4f5f-4ace-ab4b-665e55c399aa"
      },
      "source": [
        "from sklearn.metrics import roc_auc_score\n",
        "print(\"auc score =\\t\" ,roc_auc_score(y_valid, y_predrf))"
      ],
      "execution_count": null,
      "outputs": [
        {
          "output_type": "stream",
          "text": [
            "auc score =\t 0.9778609212896736\n"
          ],
          "name": "stdout"
        }
      ]
    },
    {
      "cell_type": "code",
      "metadata": {
        "id": "A19MgLIu4PmV"
      },
      "source": [
        ""
      ],
      "execution_count": null,
      "outputs": []
    },
    {
      "cell_type": "markdown",
      "metadata": {
        "id": "B3LTVcWL3d4t"
      },
      "source": [
        "### Xg-Boost Classifier"
      ]
    },
    {
      "cell_type": "code",
      "metadata": {
        "colab": {
          "base_uri": "https://localhost:8080/",
          "height": 469
        },
        "id": "eYtziiBqtMuU",
        "outputId": "4c2ec60d-f45f-4729-c6cb-a65bf83ca1d5"
      },
      "source": [
        "# Xg-Boost Classifier\n",
        "\n",
        "from xgboost.sklearn import XGBClassifier\n",
        "from sklearn.metrics import confusion_matrix\n",
        "from sklearn.metrics import classification_report\n",
        "\n",
        "model_xgb = XGBClassifier()\n",
        "model_xgb.fit(x_train, y_train)\n",
        "\n",
        "y_predxg = model_xgb.predict(x_valid)\n",
        "\n",
        "print(\"Training Accuracy: \", model_xgb.score(x_train, y_train))\n",
        "print('Testing Accuarcy: ', model_xgb.score(x_valid, y_valid))\n",
        "\n",
        "# making a classification report\n",
        "cr = classification_report(y_valid,  y_predxg)\n",
        "print(cr)\n",
        "\n",
        "# making a confusion matrix\n",
        "cm = confusion_matrix(y_valid, y_predxg)\n",
        "sns.heatmap(cm, annot = True)"
      ],
      "execution_count": null,
      "outputs": [
        {
          "output_type": "stream",
          "text": [
            "Training Accuracy:  0.9443383182775316\n",
            "Testing Accuarcy:  0.9422915323132243\n",
            "              precision    recall  f1-score   support\n",
            "\n",
            "         0.0       0.92      0.97      0.94     25562\n",
            "         1.0       0.97      0.92      0.94     25609\n",
            "\n",
            "    accuracy                           0.94     51171\n",
            "   macro avg       0.94      0.94      0.94     51171\n",
            "weighted avg       0.94      0.94      0.94     51171\n",
            "\n"
          ],
          "name": "stdout"
        },
        {
          "output_type": "execute_result",
          "data": {
            "text/plain": [
              "<matplotlib.axes._subplots.AxesSubplot at 0x7f1007a38750>"
            ]
          },
          "metadata": {
            "tags": []
          },
          "execution_count": 153
        },
        {
          "output_type": "display_data",
          "data": {
            "image/png": "[encoded data removed]",
            "text/plain": [
              "<Figure size 432x288 with 2 Axes>"
            ]
          },
          "metadata": {
            "tags": [],
            "needs_background": "light"
          }
        }
      ]
    },
    {
      "cell_type": "code",
      "metadata": {
        "colab": {
          "base_uri": "https://localhost:8080/"
        },
        "id": "K4qPyL7Y4wGs",
        "outputId": "88cc7cd2-3d4e-4433-b9d2-cd857e882632"
      },
      "source": [
        "from sklearn.metrics import roc_auc_score\n",
        "print(\"auc score =\\t\" ,roc_auc_score(y_valid, y_predxg))"
      ],
      "execution_count": null,
      "outputs": [
        {
          "output_type": "stream",
          "text": [
            "auc score =\t 0.9423139383532722\n"
          ],
          "name": "stdout"
        }
      ]
    },
    {
      "cell_type": "code",
      "metadata": {
        "colab": {
          "base_uri": "https://localhost:8080/"
        },
        "id": "1Jnwt0YFtMrE",
        "outputId": "a456247a-d6f7-4818-d5e9-6b7d0a4a79bc"
      },
      "source": [
        "# getting the avg precision score\n",
        "from sklearn.metrics import average_precision_score\n",
        "\n",
        "apc = average_precision_score(y_valid, y_predxg)\n",
        "print('Average Precision Score :', apc)"
      ],
      "execution_count": null,
      "outputs": [
        {
          "output_type": "stream",
          "text": [
            "Average Precision Score : 0.9269279112042733\n"
          ],
          "name": "stdout"
        }
      ]
    },
    {
      "cell_type": "markdown",
      "metadata": {
        "id": "RlYD6jEoz3Kb"
      },
      "source": [
        "### Xgboost(Hyperparameter tuning)"
      ]
    },
    {
      "cell_type": "code",
      "metadata": {
        "id": "zlX3BCExNAy1"
      },
      "source": [
        "from xgboost.sklearn import XGBClassifier"
      ],
      "execution_count": null,
      "outputs": []
    },
    {
      "cell_type": "code",
      "metadata": {
        "id": "7ukDg1Rjrx3K",
        "colab": {
          "base_uri": "https://localhost:8080/"
        },
        "outputId": "d4d6f405-fd52-41ba-86d4-bb786c260e98"
      },
      "source": [
        "## Hyper Parameter Optimization\n",
        "\n",
        "params={\n",
        " \"learning_rate\"    : [0.05, 0.10, 0.15, 0.20, 0.25, 0.30 ] ,\n",
        " \"max_depth\"        : [ 3, 4, 5, 6, 8, 10, 12, 15],\n",
        " \"min_child_weight\" : [ 1, 3, 5, 7 ],\n",
        " \"gamma\"            : [ 0.0, 0.1, 0.2 , 0.3, 0.4 ],\n",
        " \"colsample_bytree\" : [ 0.3, 0.4, 0.5 , 0.7 ]\n",
        "    \n",
        "}\n",
        "\n",
        "## Hyperparameter optimization using RandomizedSearchCV\n",
        "from sklearn.model_selection import RandomizedSearchCV, GridSearchCV\n",
        "import xgboost\n",
        "\n",
        "\n",
        "def timer(start_time=None):\n",
        "    if not start_time:\n",
        "        start_time = datetime.now()\n",
        "        return start_time\n",
        "    elif start_time:\n",
        "        thour, temp_sec = divmod((datetime.now() - start_time).total_seconds(), 3600)\n",
        "        tmin, tsec = divmod(temp_sec, 60)\n",
        "        print('\\n Time taken: %i hours %i minutes and %s seconds.' % (thour, tmin, round(tsec, 2)))\n",
        "\n",
        "classifier=xgboost.XGBClassifier()\n",
        "\n",
        "random_search=RandomizedSearchCV(classifier,param_distributions=params,n_iter=5,scoring='roc_auc',n_jobs=-1,cv=3,verbose=3)\n",
        "\n",
        "from datetime import datetime\n",
        "# Here we go\n",
        "start_time = timer(None) # timing starts from this point for \"start_time\" variable\n",
        "random_search.fit(x_train, y_train)\n",
        "timer(start_time) # timing ends here for \"start_time\" variable"
      ],
      "execution_count": null,
      "outputs": [
        {
          "output_type": "stream",
          "text": [
            "Fitting 3 folds for each of 5 candidates, totalling 15 fits\n"
          ],
          "name": "stdout"
        },
        {
          "output_type": "stream",
          "text": [
            "[Parallel(n_jobs=-1)]: Using backend LokyBackend with 2 concurrent workers.\n",
            "[Parallel(n_jobs=-1)]: Done  15 out of  15 | elapsed: 22.7min finished\n"
          ],
          "name": "stderr"
        },
        {
          "output_type": "stream",
          "text": [
            "\n",
            " Time taken: 0 hours 28 minutes and 31.3 seconds.\n"
          ],
          "name": "stdout"
        }
      ]
    },
    {
      "cell_type": "code",
      "metadata": {
        "scrolled": false,
        "id": "UryymrdTrx3L",
        "colab": {
          "base_uri": "https://localhost:8080/"
        },
        "outputId": "e6184c53-98ad-42fd-dbfd-63cbd3de44e2"
      },
      "source": [
        "random_search.best_estimator_"
      ],
      "execution_count": null,
      "outputs": [
        {
          "output_type": "execute_result",
          "data": {
            "text/plain": [
              "XGBClassifier(base_score=0.5, booster='gbtree', colsample_bylevel=1,\n",
              "              colsample_bynode=1, colsample_bytree=0.5, gamma=0.3,\n",
              "              learning_rate=0.15, max_delta_step=0, max_depth=15,\n",
              "              min_child_weight=5, missing=None, n_estimators=100, n_jobs=1,\n",
              "              nthread=None, objective='binary:logistic', random_state=0,\n",
              "              reg_alpha=0, reg_lambda=1, scale_pos_weight=1, seed=None,\n",
              "              silent=None, subsample=1, verbosity=1)"
            ]
          },
          "metadata": {
            "tags": []
          },
          "execution_count": 65
        }
      ]
    },
    {
      "cell_type": "code",
      "metadata": {
        "id": "0ylyU6ZgAumc"
      },
      "source": [
        "model_xgb=XGBClassifier(base_score=0.5, booster='gbtree', colsample_bylevel=1,\n",
        "              colsample_bynode=1, colsample_bytree=0.5, gamma=0.3,\n",
        "              learning_rate=0.15, max_delta_step=0, max_depth=15,\n",
        "              min_child_weight=5, missing=None, n_estimators=100, n_jobs=1,\n",
        "              nthread=None, objective='binary:logistic', random_state=0,\n",
        "              reg_alpha=0, reg_lambda=1, scale_pos_weight=1, seed=None,\n",
        "              silent=None, subsample=1, verbosity=1)"
      ],
      "execution_count": null,
      "outputs": []
    },
    {
      "cell_type": "code",
      "metadata": {
        "id": "kTz9nOrxAujB"
      },
      "source": [
        ""
      ],
      "execution_count": null,
      "outputs": []
    },
    {
      "cell_type": "code",
      "metadata": {
        "id": "Ewew0VoLAubu"
      },
      "source": [
        ""
      ],
      "execution_count": null,
      "outputs": []
    },
    {
      "cell_type": "code",
      "metadata": {
        "id": "EnNGTmhxrx3M"
      },
      "source": [
        "# model_xgb=xgboost.XGBClassifier(base_score=0.5, booster='gbtree', colsample_bylevel=1,\n",
        "#               colsample_bynode=1, colsample_bytree=0.5, gamma=0.2, gpu_id=-1,\n",
        "#               importance_type='gain', interaction_constraints='',\n",
        "#               learning_rate=0.1, max_delta_step=0, max_depth=15,\n",
        "#               min_child_weight=5, monotone_constraints='()',\n",
        "#               n_estimators=100, n_jobs=0, num_parallel_tree=1, random_state=0,\n",
        "#               reg_alpha=0, reg_lambda=1, scale_pos_w to\n",
        "\n",
        "# The outcome of the program will be that you will have a solid profile in Software Development or Data Analytics with projects and you will easily be able to grab a good job/internsheight=1, subsample=1,\n",
        "#               tree_method='exact', validate_parameters=1, verbosity=None)"
      ],
      "execution_count": null,
      "outputs": []
    },
    {
      "cell_type": "code",
      "metadata": {
        "colab": {
          "base_uri": "https://localhost:8080/",
          "height": 471
        },
        "id": "cEQ6_Icy0pOK",
        "outputId": "aacd1951-44d9-463c-ff80-139abc5049eb"
      },
      "source": [
        "from sklearn.metrics import confusion_matrix\n",
        "from sklearn.metrics import classification_report\n",
        "\n",
        "model_xgb.fit(x_train, y_train)\n",
        "\n",
        "y_predxg = model_xgb.predict(x_valid)\n",
        "\n",
        "print(\"Training Accuracy: \", model_xgb.score(x_train, y_train))\n",
        "print('Testing Accuarcy: ', model_xgb.score(x_valid, y_valid))\n",
        "\n",
        "# making a classification report\n",
        "cr = classification_report(y_valid,  y_predxg)\n",
        "print(cr)\n",
        "\n",
        "# making a confusion matrix\n",
        "cm = confusion_matrix(y_valid, y_predxg)\n",
        "sns.heatmap(cm, annot = True)"
      ],
      "execution_count": null,
      "outputs": [
        {
          "output_type": "stream",
          "text": [
            "Training Accuracy:  0.9984121788326339\n",
            "Testing Accuarcy:  0.9743800199331653\n",
            "              precision    recall  f1-score   support\n",
            "\n",
            "         0.0       0.96      0.99      0.97     25562\n",
            "         1.0       0.99      0.96      0.97     25609\n",
            "\n",
            "    accuracy                           0.97     51171\n",
            "   macro avg       0.97      0.97      0.97     51171\n",
            "weighted avg       0.97      0.97      0.97     51171\n",
            "\n"
          ],
          "name": "stdout"
        },
        {
          "output_type": "execute_result",
          "data": {
            "text/plain": [
              "<matplotlib.axes._subplots.AxesSubplot at 0x7f10081ab5d0>"
            ]
          },
          "metadata": {
            "tags": []
          },
          "execution_count": 67
        },
        {
          "output_type": "display_data",
          "data": {
            "image/png": "[encoded data removed]",
            "text/plain": [
              "<Figure size 432x288 with 2 Axes>"
            ]
          },
          "metadata": {
            "tags": [],
            "needs_background": "light"
          }
        }
      ]
    },
    {
      "cell_type": "code",
      "metadata": {
        "id": "geJSatD23OFa"
      },
      "source": [
        ""
      ],
      "execution_count": null,
      "outputs": []
    },
    {
      "cell_type": "code",
      "metadata": {
        "colab": {
          "base_uri": "https://localhost:8080/"
        },
        "id": "4nMeOXog0wMI",
        "outputId": "8082926c-2f6b-4862-c02a-5c8c43849260"
      },
      "source": [
        "from sklearn.metrics import roc_auc_score\n",
        "print(\"auc score =\\t\" ,roc_auc_score(y_valid, y_predxg))"
      ],
      "execution_count": null,
      "outputs": [
        {
          "output_type": "stream",
          "text": [
            "auc score =\t 0.9743946629955791\n"
          ],
          "name": "stdout"
        }
      ]
    },
    {
      "cell_type": "markdown",
      "metadata": {
        "id": "5i3JTKed3m6s"
      },
      "source": [
        "### ADA BOOST CLASSIFIER"
      ]
    },
    {
      "cell_type": "code",
      "metadata": {
        "colab": {
          "base_uri": "https://localhost:8080/",
          "height": 469
        },
        "id": "OmTtU7Jt5Q4T",
        "outputId": "913c9020-8e3a-4c7b-a4e6-bb7b08ae39a5"
      },
      "source": [
        "# ADA BOOST CLASSIFIER\n",
        "\n",
        "from sklearn.ensemble import AdaBoostClassifier\n",
        "from sklearn.metrics import confusion_matrix\n",
        "from sklearn.metrics import classification_report\n",
        "\n",
        "model_ada = AdaBoostClassifier()\n",
        "model_ada.fit(x_train, y_train)\n",
        "\n",
        "y_predada = model_ada.predict(x_valid)\n",
        "\n",
        "print(\"Training Accuracy: \", model_ada.score(x_train, y_train))\n",
        "print('Testing Accuarcy: ', model_ada.score(x_valid, y_valid))\n",
        "\n",
        "# making a classification report\n",
        "cr = classification_report(y_valid,  y_predada)\n",
        "print(cr)\n",
        "\n",
        "# making a confusion matrix\n",
        "cm = confusion_matrix(y_valid, y_predada)\n",
        "sns.heatmap(cm, annot = True)"
      ],
      "execution_count": null,
      "outputs": [
        {
          "output_type": "stream",
          "text": [
            "Training Accuracy:  0.9158112789044522\n",
            "Testing Accuarcy:  0.9120009380313068\n",
            "              precision    recall  f1-score   support\n",
            "\n",
            "         0.0       0.90      0.93      0.91     25562\n",
            "         1.0       0.93      0.89      0.91     25609\n",
            "\n",
            "    accuracy                           0.91     51171\n",
            "   macro avg       0.91      0.91      0.91     51171\n",
            "weighted avg       0.91      0.91      0.91     51171\n",
            "\n"
          ],
          "name": "stdout"
        },
        {
          "output_type": "execute_result",
          "data": {
            "text/plain": [
              "<matplotlib.axes._subplots.AxesSubplot at 0x7f100f053f10>"
            ]
          },
          "metadata": {
            "tags": []
          },
          "execution_count": 157
        },
        {
          "output_type": "display_data",
          "data": {
            "image/png": "[encoded data removed]",
            "text/plain": [
              "<Figure size 432x288 with 2 Axes>"
            ]
          },
          "metadata": {
            "tags": [],
            "needs_background": "light"
          }
        }
      ]
    },
    {
      "cell_type": "code",
      "metadata": {
        "colab": {
          "base_uri": "https://localhost:8080/"
        },
        "id": "akynOveo6M3I",
        "outputId": "b3b665f9-9deb-4286-9fe0-8b395e749d72"
      },
      "source": [
        "from sklearn.metrics import roc_auc_score\n",
        "print(\"auc score =\\t\" ,roc_auc_score(y_valid, y_predxg))"
      ],
      "execution_count": null,
      "outputs": [
        {
          "output_type": "stream",
          "text": [
            "auc score =\t 0.9423139383532722\n"
          ],
          "name": "stdout"
        }
      ]
    },
    {
      "cell_type": "code",
      "metadata": {
        "colab": {
          "base_uri": "https://localhost:8080/"
        },
        "id": "Yl26vltX5Q0C",
        "outputId": "a4cb1d45-e9f0-41af-cfb6-94ece38420d0"
      },
      "source": [
        "# getting the avg precision score\n",
        "from sklearn.metrics import average_precision_score\n",
        "\n",
        "apc = average_precision_score(y_valid, y_predada)\n",
        "print('Average Precision Score :', apc)"
      ],
      "execution_count": null,
      "outputs": [
        {
          "output_type": "stream",
          "text": [
            "Average Precision Score : 0.8830971520989217\n"
          ],
          "name": "stdout"
        }
      ]
    },
    {
      "cell_type": "markdown",
      "metadata": {
        "id": "0cfISS6_3wnO"
      },
      "source": [
        "### LGBMClassifier"
      ]
    },
    {
      "cell_type": "code",
      "metadata": {
        "colab": {
          "base_uri": "https://localhost:8080/",
          "height": 472
        },
        "id": "myvE9j6j5Qw6",
        "outputId": "140342a1-6c61-492e-989f-873039e6e349"
      },
      "source": [
        "# light boost classifier\n",
        "\n",
        "from lightgbm import LGBMClassifier\n",
        "from sklearn.metrics import confusion_matrix\n",
        "from sklearn.metrics import classification_report\n",
        "\n",
        "model_lgb = LGBMClassifier()\n",
        "model_lgb.fit(x_train, y_train)\n",
        "\n",
        "y_pred = model_lgb.predict(x_valid)\n",
        "\n",
        "print(\"Training Accuracy: \", model_lgb.score(x_train, y_train))\n",
        "print('Testing Accuarcy: ', model_lgb.score(x_valid, y_valid))\n",
        "\n",
        "# making a classification report\n",
        "cr = classification_report(y_valid,  y_pred)\n",
        "print(cr)\n",
        "\n",
        "# making a confusion matrix\n",
        "cm = confusion_matrix(y_valid, y_pred)\n",
        "sns.heatmap(cm, annot = True)"
      ],
      "execution_count": null,
      "outputs": [
        {
          "output_type": "stream",
          "text": [
            "Training Accuracy:  0.9668462940253953\n",
            "Testing Accuarcy:  0.9652732993296984\n",
            "              precision    recall  f1-score   support\n",
            "\n",
            "         0.0       0.95      0.99      0.97     25562\n",
            "         1.0       0.98      0.95      0.96     25609\n",
            "\n",
            "    accuracy                           0.97     51171\n",
            "   macro avg       0.97      0.97      0.97     51171\n",
            "weighted avg       0.97      0.97      0.97     51171\n",
            "\n"
          ],
          "name": "stdout"
        },
        {
          "output_type": "execute_result",
          "data": {
            "text/plain": [
              "<matplotlib.axes._subplots.AxesSubplot at 0x7f100ef8e7d0>"
            ]
          },
          "metadata": {
            "tags": []
          },
          "execution_count": 161
        },
        {
          "output_type": "display_data",
          "data": {
            "image/png": "[encoded data removed]",
            "text/plain": [
              "<Figure size 432x288 with 2 Axes>"
            ]
          },
          "metadata": {
            "tags": [],
            "needs_background": "light"
          }
        }
      ]
    },
    {
      "cell_type": "code",
      "metadata": {
        "colab": {
          "base_uri": "https://localhost:8080/"
        },
        "id": "NGFavSFW5Qtj",
        "outputId": "46cced88-291b-4ef9-b3ee-0a5fc963c89e"
      },
      "source": [
        "from sklearn.metrics import roc_auc_score\n",
        "print(\"auc score =\\t\" ,roc_auc_score(y_valid, y_pred))"
      ],
      "execution_count": null,
      "outputs": [
        {
          "output_type": "stream",
          "text": [
            "auc score =\t 0.9652914168969252\n"
          ],
          "name": "stdout"
        }
      ]
    },
    {
      "cell_type": "markdown",
      "metadata": {
        "id": "Ou1ZRj4A37Y0"
      },
      "source": [
        "### GAUSSIAN NAIVE BAYES CLASSIFIER"
      ]
    },
    {
      "cell_type": "code",
      "metadata": {
        "id": "P3avgV0n5QqZ",
        "colab": {
          "base_uri": "https://localhost:8080/",
          "height": 469
        },
        "outputId": "002afc2f-9ddc-4171-e117-d329da64027f"
      },
      "source": [
        "# GAUSSIAN NAIVE BAYES CLASSIFIER\n",
        "\n",
        "from sklearn.naive_bayes import GaussianNB\n",
        "from sklearn.metrics import confusion_matrix\n",
        "from sklearn.metrics import classification_report\n",
        "\n",
        "gnb = GaussianNB()\n",
        "gnb.fit(x_train, y_train)\n",
        "y_prednb = gnb.predict(x_valid)\n",
        "  \n",
        "print(\"Training Accuracy: \", gnb.score(x_train, y_train))\n",
        "print('Testing Accuarcy: ', gnb.score(x_valid, y_valid))\n",
        "\n",
        "# making a classification report\n",
        "cr = classification_report(y_valid,  y_prednb)\n",
        "print(cr)\n",
        "\n",
        "# making a confusion matrix\n",
        "cm = confusion_matrix(y_valid, y_prednb)\n",
        "sns.heatmap(cm, annot = True)"
      ],
      "execution_count": null,
      "outputs": [
        {
          "output_type": "stream",
          "text": [
            "Training Accuracy:  0.6632500012214009\n",
            "Testing Accuarcy:  0.6623087295538489\n",
            "              precision    recall  f1-score   support\n",
            "\n",
            "         0.0       0.88      0.38      0.53     25562\n",
            "         1.0       0.60      0.95      0.74     25609\n",
            "\n",
            "    accuracy                           0.66     51171\n",
            "   macro avg       0.74      0.66      0.63     51171\n",
            "weighted avg       0.74      0.66      0.63     51171\n",
            "\n"
          ],
          "name": "stdout"
        },
        {
          "output_type": "execute_result",
          "data": {
            "text/plain": [
              "<matplotlib.axes._subplots.AxesSubplot at 0x7f100eec3f90>"
            ]
          },
          "metadata": {
            "tags": []
          },
          "execution_count": 163
        },
        {
          "output_type": "display_data",
          "data": {
            "image/png": "[encoded data removed]",
            "text/plain": [
              "<Figure size 432x288 with 2 Axes>"
            ]
          },
          "metadata": {
            "tags": [],
            "needs_background": "light"
          }
        }
      ]
    },
    {
      "cell_type": "markdown",
      "metadata": {
        "id": "KthKmZe1bs3M"
      },
      "source": [
        "# Adding Normalization after Standardizaton"
      ]
    },
    {
      "cell_type": "code",
      "metadata": {
        "colab": {
          "base_uri": "https://localhost:8080/"
        },
        "id": "WeDQaWvYRg6i",
        "outputId": "788e9089-c258-4258-9620-dfa1e882f170"
      },
      "source": [
        "X.shape"
      ],
      "execution_count": null,
      "outputs": [
        {
          "output_type": "execute_result",
          "data": {
            "text/plain": [
              "(135493, 104)"
            ]
          },
          "metadata": {
            "tags": []
          },
          "execution_count": 170
        }
      ]
    },
    {
      "cell_type": "code",
      "metadata": {
        "colab": {
          "base_uri": "https://localhost:8080/"
        },
        "id": "7Z18c1scb5AQ",
        "outputId": "ccfc99a1-18d6-4444-c8cf-6c7c405aeca1"
      },
      "source": [
        "from imblearn.over_sampling import SMOTE\n",
        "\n",
        "x_resample, y_resample = SMOTE().fit_sample(X, y.values.ravel()) \n",
        "\n",
        "# checking the shape of x_resample and y_resample\n",
        "print(\"Shape of x:\", x_resample.shape)\n",
        "print(\"Shape of y:\", y_resample.shape)"
      ],
      "execution_count": null,
      "outputs": [
        {
          "output_type": "stream",
          "text": [
            "/usr/local/lib/python3.7/dist-packages/sklearn/utils/deprecation.py:87: FutureWarning: Function safe_indexing is deprecated; safe_indexing is deprecated in version 0.22 and will be removed in version 0.24.\n",
            "  warnings.warn(msg, category=FutureWarning)\n"
          ],
          "name": "stderr"
        },
        {
          "output_type": "stream",
          "text": [
            "Shape of x: (255854, 104)\n",
            "Shape of y: (255854,)\n"
          ],
          "name": "stdout"
        }
      ]
    },
    {
      "cell_type": "code",
      "metadata": {
        "id": "Zcb7PTclcC-R"
      },
      "source": [
        "  # applying Normalization\n",
        "  from sklearn.preprocessing import MinMaxScaler\n",
        "  nor=MinMaxScaler()\n",
        "  x_resample = nor.fit_transform(x_resample)\n",
        "  # x_valid = nor.transform(x_valid)"
      ],
      "execution_count": null,
      "outputs": []
    },
    {
      "cell_type": "code",
      "metadata": {
        "colab": {
          "base_uri": "https://localhost:8080/"
        },
        "id": "ohWtO7fub5A5",
        "outputId": "1466f544-7451-494b-db9c-e438701c03ef"
      },
      "source": [
        "\n",
        "# train and valid sets from train\n",
        "from sklearn.model_selection import train_test_split\n",
        "\n",
        "x_train, x_valid, y_train, y_valid = train_test_split(x_resample, y_resample, test_size = 0.2, random_state = 0)\n",
        "\n",
        "# checking the shapes\n",
        "print(x_train.shape)\n",
        "print(y_train.shape)\n",
        "print(x_valid.shape)\n",
        "print(y_valid.shape)"
      ],
      "execution_count": null,
      "outputs": [
        {
          "output_type": "stream",
          "text": [
            "(204683, 104)\n",
            "(204683,)\n",
            "(51171, 104)\n",
            "(51171,)\n"
          ],
          "name": "stdout"
        }
      ]
    },
    {
      "cell_type": "code",
      "metadata": {
        "id": "75lQYdE9b5A6"
      },
      "source": [
        "# applying standardization\n",
        "\n",
        "from sklearn.preprocessing import StandardScaler\n",
        "\n",
        "sc = StandardScaler()\n",
        "x_train = sc.fit_transform(x_train)\n",
        "x_valid = sc.transform(x_valid)\n",
        "# x_test = sc.transform(x_test)"
      ],
      "execution_count": null,
      "outputs": []
    },
    {
      "cell_type": "code",
      "metadata": {
        "id": "0o8qTQrBRq7m"
      },
      "source": [
        "  # applying Normalization\n",
        "  from sklearn.preprocessing import MinMaxScaler\n",
        "  nor=MinMaxScaler()\n",
        "  x_train = nor.fit_transform(x_train)\n",
        "  x_valid = nor.transform(x_valid)"
      ],
      "execution_count": null,
      "outputs": []
    },
    {
      "cell_type": "markdown",
      "metadata": {
        "id": "AJZo0Benb5A7"
      },
      "source": [
        "### LOGISTIC REGRESSION CLASSIFIER"
      ]
    },
    {
      "cell_type": "code",
      "metadata": {
        "colab": {
          "base_uri": "https://localhost:8080/",
          "height": 605
        },
        "id": "qk3atZ9Qb5A7",
        "outputId": "9949f99d-1eb5-4827-9233-b7840682629d"
      },
      "source": [
        "# LOGISTIC REGRESSION CLASSIFIER\n",
        "\n",
        "from sklearn.linear_model import LogisticRegression\n",
        "from sklearn.metrics import confusion_matrix\n",
        "from sklearn.metrics import classification_report\n",
        "\n",
        "model_LG = LogisticRegression()\n",
        "model_LG.fit(x_train, y_train)\n",
        "\n",
        "y_pred = model_LG.predict(x_valid)\n",
        "\n",
        "print(\"Training Accuracy: \", model_LG.score(x_train, y_train))\n",
        "print('Testing Accuarcy: ', model_LG.score(x_valid, y_valid))\n",
        "\n",
        "# making a classification report\n",
        "cr = classification_report(y_valid,  y_pred)\n",
        "print(cr)\n",
        "\n",
        "# making a confusion matrix\n",
        "cm = confusion_matrix(y_valid, y_pred)\n",
        "sns.heatmap(cm, annot = True)"
      ],
      "execution_count": null,
      "outputs": [
        {
          "output_type": "stream",
          "text": [
            "/usr/local/lib/python3.7/dist-packages/sklearn/linear_model/_logistic.py:940: ConvergenceWarning: lbfgs failed to converge (status=1):\n",
            "STOP: TOTAL NO. of ITERATIONS REACHED LIMIT.\n",
            "\n",
            "Increase the number of iterations (max_iter) or scale the data as shown in:\n",
            "    https://scikit-learn.org/stable/modules/preprocessing.html\n",
            "Please also refer to the documentation for alternative solver options:\n",
            "    https://scikit-learn.org/stable/modules/linear_model.html#logistic-regression\n",
            "  extra_warning_msg=_LOGISTIC_SOLVER_CONVERGENCE_MSG)\n"
          ],
          "name": "stderr"
        },
        {
          "output_type": "stream",
          "text": [
            "Training Accuracy:  0.7619001089489601\n",
            "Testing Accuarcy:  0.7600398663305388\n",
            "              precision    recall  f1-score   support\n",
            "\n",
            "         0.0       0.77      0.75      0.76     25562\n",
            "         1.0       0.75      0.77      0.76     25609\n",
            "\n",
            "    accuracy                           0.76     51171\n",
            "   macro avg       0.76      0.76      0.76     51171\n",
            "weighted avg       0.76      0.76      0.76     51171\n",
            "\n"
          ],
          "name": "stdout"
        },
        {
          "output_type": "execute_result",
          "data": {
            "text/plain": [
              "<matplotlib.axes._subplots.AxesSubplot at 0x7f100edf9dd0>"
            ]
          },
          "metadata": {
            "tags": []
          },
          "execution_count": 176
        },
        {
          "output_type": "display_data",
          "data": {
            "image/png": "[encoded data removed]",
            "text/plain": [
              "<Figure size 432x288 with 2 Axes>"
            ]
          },
          "metadata": {
            "tags": [],
            "needs_background": "light"
          }
        }
      ]
    },
    {
      "cell_type": "code",
      "metadata": {
        "colab": {
          "base_uri": "https://localhost:8080/"
        },
        "id": "fb_wCwUbb5A8",
        "outputId": "72bb6a75-2199-4535-f7b3-58c08ef167f2"
      },
      "source": [
        "from sklearn.metrics import roc_auc_score\n",
        "print(\"auc score =\\t\" ,roc_auc_score(y_valid, y_pred))"
      ],
      "execution_count": null,
      "outputs": [
        {
          "output_type": "stream",
          "text": [
            "auc score =\t 0.7600293788771453\n"
          ],
          "name": "stdout"
        }
      ]
    },
    {
      "cell_type": "markdown",
      "metadata": {
        "id": "gYvGeGHSZhe7"
      },
      "source": [
        "### RANDOM FOREST CLASSIFIER"
      ]
    },
    {
      "cell_type": "code",
      "metadata": {
        "colab": {
          "base_uri": "https://localhost:8080/",
          "height": 473
        },
        "id": "e_tFmCvKb5A9",
        "outputId": "2b5a19f0-22ab-4fb1-a4d5-9aeab37aa9a9"
      },
      "source": [
        "# RANDOM FOREST CLASSIFIER\n",
        "from sklearn.ensemble import RandomForestClassifier\n",
        "from sklearn.metrics import confusion_matrix\n",
        "from sklearn.metrics import classification_report\n",
        "\n",
        "model_rf = RandomForestClassifier()\n",
        "model_rf.fit(x_train, y_train)\n",
        "\n",
        "y_predrf = model_rf.predict(x_valid)\n",
        "\n",
        "print(\"Training Accuracy: \", model_rf.score(x_train, y_train))\n",
        "print('Testing Accuarcy: ', model_rf.score(x_valid, y_valid))\n",
        "\n",
        "# making a classification report\n",
        "cr = classification_report(y_valid,  y_predrf)\n",
        "print(cr)\n",
        "\n",
        "# making a confusion matrix\n",
        "cm = confusion_matrix(y_valid, y_predrf)\n",
        "sns.heatmap(cm, annot = True)"
      ],
      "execution_count": null,
      "outputs": [
        {
          "output_type": "stream",
          "text": [
            "Training Accuracy:  1.0\n",
            "Testing Accuarcy:  0.9765687596490199\n",
            "              precision    recall  f1-score   support\n",
            "\n",
            "         0.0       0.97      0.98      0.98     25562\n",
            "         1.0       0.98      0.97      0.98     25609\n",
            "\n",
            "    accuracy                           0.98     51171\n",
            "   macro avg       0.98      0.98      0.98     51171\n",
            "weighted avg       0.98      0.98      0.98     51171\n",
            "\n"
          ],
          "name": "stdout"
        },
        {
          "output_type": "execute_result",
          "data": {
            "text/plain": [
              "<matplotlib.axes._subplots.AxesSubplot at 0x7f100ed39210>"
            ]
          },
          "metadata": {
            "tags": []
          },
          "execution_count": 178
        },
        {
          "output_type": "display_data",
          "data": {
            "image/png": "[encoded data removed]",
            "text/plain": [
              "<Figure size 432x288 with 2 Axes>"
            ]
          },
          "metadata": {
            "tags": [],
            "needs_background": "light"
          }
        }
      ]
    },
    {
      "cell_type": "code",
      "metadata": {
        "colab": {
          "base_uri": "https://localhost:8080/"
        },
        "id": "6prurq4qb5A9",
        "outputId": "08b93324-9af1-4b63-9036-e48222fb85f3"
      },
      "source": [
        "from sklearn.metrics import roc_auc_score\n",
        "print(\"auc score =\\t\" ,roc_auc_score(y_valid, y_predrf))"
      ],
      "execution_count": null,
      "outputs": [
        {
          "output_type": "stream",
          "text": [
            "auc score =\t 0.9765709476605335\n"
          ],
          "name": "stdout"
        }
      ]
    },
    {
      "cell_type": "code",
      "metadata": {
        "id": "JSD_z0Jub5A-"
      },
      "source": [
        "\n"
      ],
      "execution_count": null,
      "outputs": []
    },
    {
      "cell_type": "code",
      "metadata": {
        "colab": {
          "base_uri": "https://localhost:8080/",
          "height": 469
        },
        "id": "wYy6SIhob5A-",
        "outputId": "91e77e36-f17b-4b88-e5e3-dcd600a4a7e0"
      },
      "source": [
        "# Xg-Boost Classifier\n",
        "\n",
        "from xgboost.sklearn import XGBClassifier\n",
        "from sklearn.metrics import confusion_matrix\n",
        "from sklearn.metrics import classification_report\n",
        "\n",
        "model_xgb = XGBClassifier()\n",
        "model_xgb.fit(x_train, y_train)\n",
        "\n",
        "y_predxg = model_xgb.predict(x_valid)\n",
        "\n",
        "print(\"Training Accuracy: \", model_xgb.score(x_train, y_train))\n",
        "print('Testing Accuarcy: ', model_xgb.score(x_valid, y_valid))\n",
        "\n",
        "# making a classification report\n",
        "cr = classification_report(y_valid,  y_predxg)\n",
        "print(cr)\n",
        "\n",
        "# making a confusion matrix\n",
        "cm = confusion_matrix(y_valid, y_predxg)\n",
        "sns.heatmap(cm, annot = True)"
      ],
      "execution_count": null,
      "outputs": [
        {
          "output_type": "stream",
          "text": [
            "Training Accuracy:  0.9436689905854418\n",
            "Testing Accuarcy:  0.9421547360809833\n",
            "              precision    recall  f1-score   support\n",
            "\n",
            "         0.0       0.92      0.97      0.94     25562\n",
            "         1.0       0.96      0.92      0.94     25609\n",
            "\n",
            "    accuracy                           0.94     51171\n",
            "   macro avg       0.94      0.94      0.94     51171\n",
            "weighted avg       0.94      0.94      0.94     51171\n",
            "\n"
          ],
          "name": "stdout"
        },
        {
          "output_type": "execute_result",
          "data": {
            "text/plain": [
              "<matplotlib.axes._subplots.AxesSubplot at 0x7f100ec70a50>"
            ]
          },
          "metadata": {
            "tags": []
          },
          "execution_count": 180
        },
        {
          "output_type": "display_data",
          "data": {
            "image/png": "[encoded data removed]",
            "text/plain": [
              "<Figure size 432x288 with 2 Axes>"
            ]
          },
          "metadata": {
            "tags": [],
            "needs_background": "light"
          }
        }
      ]
    },
    {
      "cell_type": "code",
      "metadata": {
        "colab": {
          "base_uri": "https://localhost:8080/"
        },
        "id": "eS2F-1h9b5A_",
        "outputId": "85ac773a-ddd6-4c18-fcb3-019f92280506"
      },
      "source": [
        "from sklearn.metrics import roc_auc_score\n",
        "print(\"auc score =\\t\" ,roc_auc_score(y_valid, y_predxg))"
      ],
      "execution_count": null,
      "outputs": [
        {
          "output_type": "stream",
          "text": [
            "auc score =\t 0.9421762983828942\n"
          ],
          "name": "stdout"
        }
      ]
    },
    {
      "cell_type": "code",
      "metadata": {
        "colab": {
          "base_uri": "https://localhost:8080/"
        },
        "id": "BHutANB-b5BA",
        "outputId": "8387d218-9b14-479f-9d58-d30d5a6fa14b"
      },
      "source": [
        "# getting the avg precision score\n",
        "from sklearn.metrics import average_precision_score\n",
        "\n",
        "apc = average_precision_score(y_valid, y_predxg)\n",
        "print('Average Precision Score :', apc)"
      ],
      "execution_count": null,
      "outputs": [
        {
          "output_type": "stream",
          "text": [
            "Average Precision Score : 0.9263361818431204\n"
          ],
          "name": "stdout"
        }
      ]
    },
    {
      "cell_type": "code",
      "metadata": {
        "id": "RCCPxF_Kb5BA"
      },
      "source": [
        "# # plotting an AUC ROC Curve\n",
        "\n",
        "# from sklearn.metrics import precision_recall_curve\n",
        "# from sklearn.utils.fixes import signature\n",
        "\n",
        "# precision, recall, _ = precision_recall_curve(y_valid, y_pred)\n",
        "\n",
        "# step_kwargs = ({'step':'post'} if 'step' in signature(plt.fill_between).parameters else{})\n",
        "\n",
        "# plt.step(recall, precision, color = 'pink', alpha = 0.6, where = 'post')\n",
        "# plt.fill_between(recall, precision, color = 'pink', alpha = 0.6, **step_kwargs)\n",
        "\n",
        "# plt.title('Precision Recall Curve')\n",
        "# plt.xlabel('Recall', fontsize = 15)\n",
        "# plt.ylabel('Precision', fontsize =15)\n",
        "# plt.ylim([0.0, 1.05])\n",
        "# plt.xlim([0.0, 1.0])"
      ],
      "execution_count": null,
      "outputs": []
    },
    {
      "cell_type": "code",
      "metadata": {
        "colab": {
          "base_uri": "https://localhost:8080/",
          "height": 469
        },
        "id": "d11bGNm3b5BB",
        "outputId": "a03c239a-971a-4143-b040-92046bb483ea"
      },
      "source": [
        "# ADA BOOST CLASSIFIER\n",
        "\n",
        "from sklearn.ensemble import AdaBoostClassifier\n",
        "from sklearn.metrics import confusion_matrix\n",
        "from sklearn.metrics import classification_report\n",
        "\n",
        "model_ada = AdaBoostClassifier()\n",
        "model_ada.fit(x_train, y_train)\n",
        "\n",
        "y_predada = model_ada.predict(x_valid)\n",
        "\n",
        "print(\"Training Accuracy: \", model_ada.score(x_train, y_train))\n",
        "print('Testing Accuarcy: ', model_ada.score(x_valid, y_valid))\n",
        "\n",
        "# making a classification report\n",
        "cr = classification_report(y_valid,  y_predada)\n",
        "print(cr)\n",
        "\n",
        "# making a confusion matrix\n",
        "cm = confusion_matrix(y_valid, y_predada)\n",
        "sns.heatmap(cm, annot = True)"
      ],
      "execution_count": null,
      "outputs": [
        {
          "output_type": "stream",
          "text": [
            "Training Accuracy:  0.9124890684619631\n",
            "Testing Accuarcy:  0.9116100916534756\n",
            "              precision    recall  f1-score   support\n",
            "\n",
            "         0.0       0.90      0.92      0.91     25562\n",
            "         1.0       0.92      0.90      0.91     25609\n",
            "\n",
            "    accuracy                           0.91     51171\n",
            "   macro avg       0.91      0.91      0.91     51171\n",
            "weighted avg       0.91      0.91      0.91     51171\n",
            "\n"
          ],
          "name": "stdout"
        },
        {
          "output_type": "execute_result",
          "data": {
            "text/plain": [
              "<matplotlib.axes._subplots.AxesSubplot at 0x7f100edfc950>"
            ]
          },
          "metadata": {
            "tags": []
          },
          "execution_count": 184
        },
        {
          "output_type": "display_data",
          "data": {
            "image/png": "[encoded data removed]",
            "text/plain": [
              "<Figure size 432x288 with 2 Axes>"
            ]
          },
          "metadata": {
            "tags": [],
            "needs_background": "light"
          }
        }
      ]
    },
    {
      "cell_type": "code",
      "metadata": {
        "id": "F5SYGgd1b5BB"
      },
      "source": [
        "# from sklearn.metrics import roc_auc_score\n",
        "# print(\"auc score =\\t\" ,roc_auc_score(y_valid, y_predxg))"
      ],
      "execution_count": null,
      "outputs": []
    },
    {
      "cell_type": "code",
      "metadata": {
        "id": "6LW1PQH7b5BC",
        "colab": {
          "base_uri": "https://localhost:8080/"
        },
        "outputId": "a7f4da7f-c3a9-410d-9259-b72d39f97bc0"
      },
      "source": [
        "# getting the avg precision score\n",
        "from sklearn.metrics import average_precision_score\n",
        "\n",
        "apc = average_precision_score(y_valid, y_predada)\n",
        "print('Average Precision Score :', apc)"
      ],
      "execution_count": null,
      "outputs": [
        {
          "output_type": "stream",
          "text": [
            "Average Precision Score : 0.879816532583574\n"
          ],
          "name": "stdout"
        }
      ]
    },
    {
      "cell_type": "code",
      "metadata": {
        "id": "TSkBdrOhb5BC",
        "colab": {
          "base_uri": "https://localhost:8080/",
          "height": 472
        },
        "outputId": "e9df3434-e7bc-4e82-9f34-a927daec742e"
      },
      "source": [
        "# light boost classifier\n",
        "\n",
        "from lightgbm import LGBMClassifier\n",
        "from sklearn.metrics import confusion_matrix\n",
        "from sklearn.metrics import classification_report\n",
        "\n",
        "model_lgb = LGBMClassifier()\n",
        "model_lgb.fit(x_train, y_train)\n",
        "\n",
        "y_pred = model_lgb.predict(x_valid)\n",
        "\n",
        "print(\"Training Accuracy: \", model_lgb.score(x_train, y_train))\n",
        "print('Testing Accuarcy: ', model_lgb.score(x_valid, y_valid))\n",
        "\n",
        "# making a classification report\n",
        "cr = classification_report(y_valid,  y_pred)\n",
        "print(cr)\n",
        "\n",
        "# making a confusion matrix\n",
        "cm = confusion_matrix(y_valid, y_pred)\n",
        "sns.heatmap(cm, annot = True)"
      ],
      "execution_count": null,
      "outputs": [
        {
          "output_type": "stream",
          "text": [
            "Training Accuracy:  0.9668951500613143\n",
            "Testing Accuarcy:  0.9655078071563972\n",
            "              precision    recall  f1-score   support\n",
            "\n",
            "         0.0       0.95      0.99      0.97     25562\n",
            "         1.0       0.99      0.95      0.96     25609\n",
            "\n",
            "    accuracy                           0.97     51171\n",
            "   macro avg       0.97      0.97      0.97     51171\n",
            "weighted avg       0.97      0.97      0.97     51171\n",
            "\n"
          ],
          "name": "stdout"
        },
        {
          "output_type": "execute_result",
          "data": {
            "text/plain": [
              "<matplotlib.axes._subplots.AxesSubplot at 0x7f100eaf87d0>"
            ]
          },
          "metadata": {
            "tags": []
          },
          "execution_count": 187
        },
        {
          "output_type": "display_data",
          "data": {
            "image/png": "[encoded data removed]",
            "text/plain": [
              "<Figure size 432x288 with 2 Axes>"
            ]
          },
          "metadata": {
            "tags": [],
            "needs_background": "light"
          }
        }
      ]
    },
    {
      "cell_type": "markdown",
      "metadata": {
        "id": "AXfeP4JP2-kf"
      },
      "source": [
        "### GAUSSIAN NAIVE BAYES CLASSIFIER"
      ]
    },
    {
      "cell_type": "code",
      "metadata": {
        "id": "xxX0-FSqb5BF",
        "colab": {
          "base_uri": "https://localhost:8080/"
        },
        "outputId": "3aa6a647-20f5-4331-edc5-e6b4f62dedd8"
      },
      "source": [
        "from sklearn.metrics import roc_auc_score\n",
        "print(\"auc score =\\t\" ,roc_auc_score(y_valid, y_pred))"
      ],
      "execution_count": null,
      "outputs": [
        {
          "output_type": "stream",
          "text": [
            "auc score =\t 0.9655263198086965\n"
          ],
          "name": "stdout"
        }
      ]
    },
    {
      "cell_type": "code",
      "metadata": {
        "colab": {
          "base_uri": "https://localhost:8080/",
          "height": 469
        },
        "id": "S5B8qJu3b5BG",
        "outputId": "785d531e-bfbf-4e5c-ceb0-b936adeca7c6"
      },
      "source": [
        "# GAUSSIAN NAIVE BAYES CLASSIFIER\n",
        "\n",
        "from sklearn.naive_bayes import GaussianNB\n",
        "from sklearn.metrics import confusion_matrix\n",
        "from sklearn.metrics import classification_report\n",
        "\n",
        "gnb = GaussianNB()\n",
        "gnb.fit(x_train, y_train)\n",
        "y_prednb = gnb.predict(x_valid)\n",
        "  \n",
        "print(\"Training Accuracy: \", gnb.score(x_train, y_train))\n",
        "print('Testing Accuarcy: ', gnb.score(x_valid, y_valid))\n",
        "\n",
        "# making a classification report\n",
        "cr = classification_report(y_valid,  y_prednb)\n",
        "print(cr)\n",
        "\n",
        "# making a confusion matrix\n",
        "cm = confusion_matrix(y_valid, y_prednb)\n",
        "sns.heatmap(cm, annot = True)"
      ],
      "execution_count": null,
      "outputs": [
        {
          "output_type": "stream",
          "text": [
            "Training Accuracy:  0.6640365833996961\n",
            "Testing Accuarcy:  0.6613902405659455\n",
            "              precision    recall  f1-score   support\n",
            "\n",
            "         0.0       0.87      0.38      0.53     25562\n",
            "         1.0       0.60      0.94      0.74     25609\n",
            "\n",
            "    accuracy                           0.66     51171\n",
            "   macro avg       0.74      0.66      0.63     51171\n",
            "weighted avg       0.74      0.66      0.63     51171\n",
            "\n"
          ],
          "name": "stdout"
        },
        {
          "output_type": "execute_result",
          "data": {
            "text/plain": [
              "<matplotlib.axes._subplots.AxesSubplot at 0x7f100ea87ad0>"
            ]
          },
          "metadata": {
            "tags": []
          },
          "execution_count": 189
        },
        {
          "output_type": "display_data",
          "data": {
            "image/png": "[encoded data removed]",
            "text/plain": [
              "<Figure size 432x288 with 2 Axes>"
            ]
          },
          "metadata": {
            "tags": [],
            "needs_background": "light"
          }
        }
      ]
    },
    {
      "cell_type": "code",
      "metadata": {
        "id": "f4irkZhob5BH"
      },
      "source": [
        ""
      ],
      "execution_count": null,
      "outputs": []
    },
    {
      "cell_type": "code",
      "metadata": {
        "id": "evI7fyJwb5BH"
      },
      "source": [
        ""
      ],
      "execution_count": null,
      "outputs": []
    },
    {
      "cell_type": "code",
      "metadata": {
        "id": "YX_m3T5j5QY6"
      },
      "source": [
        ""
      ],
      "execution_count": null,
      "outputs": []
    },
    {
      "cell_type": "code",
      "metadata": {
        "id": "7bVygKOb5QVe"
      },
      "source": [
        ""
      ],
      "execution_count": null,
      "outputs": []
    },
    {
      "cell_type": "code",
      "metadata": {
        "id": "kTwXon1D5QJx"
      },
      "source": [
        ""
      ],
      "execution_count": null,
      "outputs": []
    },
    {
      "cell_type": "code",
      "metadata": {
        "id": "LMgHmPqVuS9H"
      },
      "source": [
        ""
      ],
      "execution_count": null,
      "outputs": []
    },
    {
      "cell_type": "code",
      "metadata": {
        "id": "tTfr6J5nxbKw"
      },
      "source": [
        ""
      ],
      "execution_count": null,
      "outputs": []
    },
    {
      "cell_type": "code",
      "metadata": {
        "id": "LYXI2cPvxbHH"
      },
      "source": [
        ""
      ],
      "execution_count": null,
      "outputs": []
    },
    {
      "cell_type": "code",
      "metadata": {
        "id": "t5Qdg5gXxbCQ"
      },
      "source": [
        ""
      ],
      "execution_count": null,
      "outputs": []
    },
    {
      "cell_type": "code",
      "metadata": {
        "id": "P6Wl1uCGxaYk"
      },
      "source": [
        ""
      ],
      "execution_count": null,
      "outputs": []
    },
    {
      "cell_type": "code",
      "metadata": {
        "id": "ZMkHj0htxaVF"
      },
      "source": [
        ""
      ],
      "execution_count": null,
      "outputs": []
    },
    {
      "cell_type": "markdown",
      "metadata": {
        "id": "iBN6N3uMZ4A-"
      },
      "source": [
        "# Feature selection using mutual_info_classif,f_classif"
      ]
    },
    {
      "cell_type": "code",
      "metadata": {
        "colab": {
          "base_uri": "https://localhost:8080/"
        },
        "id": "GJZploP7jTr_",
        "outputId": "5dd41b96-2c3d-47b3-f7bf-bfe3dececa91"
      },
      "source": [
        "X.shape"
      ],
      "execution_count": null,
      "outputs": [
        {
          "output_type": "execute_result",
          "data": {
            "text/plain": [
              "(135493, 104)"
            ]
          },
          "metadata": {
            "tags": []
          },
          "execution_count": 57
        }
      ]
    },
    {
      "cell_type": "code",
      "metadata": {
        "colab": {
          "base_uri": "https://localhost:8080/"
        },
        "id": "XUZJE6nfAvTu",
        "outputId": "79bca463-c382-4a9c-ec6f-e2525d654751"
      },
      "source": [
        "features=X.columns\n",
        "features"
      ],
      "execution_count": null,
      "outputs": [
        {
          "output_type": "execute_result",
          "data": {
            "text/plain": [
              "Index(['disrict', 'client_catg', 'region', 'region_group', 'coop_time',\n",
              "       'is_weekday_mean', 'transactions_count', 'tarif_type_mean',\n",
              "       'tarif_type_std', 'tarif_type_min',\n",
              "       ...\n",
              "       'months_number_range', 'months_number_max_mean', 'counter_type_range',\n",
              "       'counter_type_max_mean', 'invoice_month_range',\n",
              "       'invoice_month_max_mean', 'invoice_year_range', 'invoice_year_max_mean',\n",
              "       'delta_index_range', 'delta_index_max_mean'],\n",
              "      dtype='object', length=104)"
            ]
          },
          "metadata": {
            "tags": []
          },
          "execution_count": 58
        }
      ]
    },
    {
      "cell_type": "code",
      "metadata": {
        "colab": {
          "base_uri": "https://localhost:8080/"
        },
        "id": "quguXQzGyyFO",
        "outputId": "91f677a8-4412-4ea7-81bd-db9b4e0c7ded"
      },
      "source": [
        "  # applying SMOTE\n",
        "  from imblearn.over_sampling import SMOTE\n",
        "\n",
        "  x_new, y_new = SMOTE().fit_sample(X, y.values.ravel()) \n",
        "\n",
        "  # checking the shape of x_resample and y_resample\n",
        "  print(\"Shape of x:\", x_new.shape)\n",
        "  print(\"Shape of y:\", y_new.shape)"
      ],
      "execution_count": null,
      "outputs": [
        {
          "output_type": "stream",
          "text": [
            "/usr/local/lib/python3.7/dist-packages/sklearn/utils/deprecation.py:87: FutureWarning: Function safe_indexing is deprecated; safe_indexing is deprecated in version 0.22 and will be removed in version 0.24.\n",
            "  warnings.warn(msg, category=FutureWarning)\n"
          ],
          "name": "stderr"
        },
        {
          "output_type": "stream",
          "text": [
            "Shape of x: (255854, 104)\n",
            "Shape of y: (255854,)\n"
          ],
          "name": "stdout"
        }
      ]
    },
    {
      "cell_type": "code",
      "metadata": {
        "id": "XY80w6B3AnRz"
      },
      "source": [
        "\n"
      ],
      "execution_count": null,
      "outputs": []
    },
    {
      "cell_type": "code",
      "metadata": {
        "id": "B2QGpTwSyaO-"
      },
      "source": [
        "  # applying standardization\n",
        "\n",
        "  from sklearn.preprocessing import StandardScaler\n",
        "\n",
        "  sc = StandardScaler()\n",
        "  x_new = sc.fit_transform(x_new)\n",
        "  # x_valid = sc.transform(x_valid)\n",
        "  \n",
        "#   # applying Normalization\n",
        "#   from sklearn.preprocessing import MinMaxScaler\n",
        "#   nor=MinMaxScaler()\n",
        "#   x_resample = nor.fit_transform(x_resample)\n",
        "#   # x_valid = nor.transform(x_valid)"
      ],
      "execution_count": null,
      "outputs": []
    },
    {
      "cell_type": "code",
      "metadata": {
        "id": "c4qaBIn1_kER"
      },
      "source": [
        "# df = pd.DataFrame(my_array, columns = ['Column_A','Column_B','Column_C'])\n",
        "x_new=pd.DataFrame(x_new)"
      ],
      "execution_count": null,
      "outputs": []
    },
    {
      "cell_type": "code",
      "metadata": {
        "colab": {
          "base_uri": "https://localhost:8080/"
        },
        "id": "GempbZe-CLkT",
        "outputId": "047ad1aa-78da-4162-c112-367459f740ca"
      },
      "source": [
        "x_new.shape"
      ],
      "execution_count": null,
      "outputs": [
        {
          "output_type": "execute_result",
          "data": {
            "text/plain": [
              "(255854, 104)"
            ]
          },
          "metadata": {
            "tags": []
          },
          "execution_count": 62
        }
      ]
    },
    {
      "cell_type": "code",
      "metadata": {
        "id": "SbvA3RC6gRBh"
      },
      "source": [
        "from sklearn.feature_selection import SelectKBest\n",
        "from sklearn.feature_selection import f_classif "
      ],
      "execution_count": null,
      "outputs": []
    },
    {
      "cell_type": "code",
      "metadata": {
        "id": "Eko85jdbgSXo"
      },
      "source": [
        "# test_acc=[]\n",
        "# ypoints2=[]\n",
        "# for i in range(70,96):\n",
        "#   x_resample = SelectKBest(mutual_info_classif, k=i).fit_transform(x_resample, y_resample) \n",
        "#   # X_new.shape\n",
        "\n",
        "\n",
        "\n",
        "\n",
        "\n",
        "#   # train and valid sets from train\n",
        "#   from sklearn.model_selection import train_test_split\n",
        "\n",
        "#   x_train, x_valid, y_train, y_valid = train_test_split(x_resample, y_resample, test_size = 0.2, random_state = 0)\n",
        "\n",
        "#   # checking the shapes\n",
        "#   print(x_train.shape)\n",
        "#   # print(y_train.shape)\n",
        "#   # print(x_valid.shape)\n",
        "#   # print(y_valid.shape)\n",
        "\n",
        "\n",
        "\n",
        "#   # LOGISTIC REGRESSION CLASSIFIER\n",
        "\n",
        "#   from sklearn.linear_model import LogisticRegression\n",
        "#   # from sklearn.metrics import confusion_matrix\n",
        "#   # from sklearn.metrics import classification_report\n",
        "\n",
        "#   model_LG = LogisticRegression()\n",
        "#   model_LG.fit(x_train, y_train)\n",
        "\n",
        "#   y_pred = model_LG.predict(x_valid)\n",
        "\n",
        "#   # print(\"Training Accuracy: \", model_LG.score(x_train, y_train))\n",
        "#   test_acc.append(model_LG.score(x_valid, y_valid))\n",
        "\n",
        "  \n",
        "\n",
        "\n",
        "#   from sklearn.metrics import roc_auc_score\n",
        "#   ypoints2.append(roc_auc_score(y_valid, y_pred))"
      ],
      "execution_count": null,
      "outputs": []
    },
    {
      "cell_type": "markdown",
      "metadata": {
        "id": "pKqEy7hy4eIa"
      },
      "source": [
        "### RANDOM FOREST"
      ]
    },
    {
      "cell_type": "code",
      "metadata": {
        "id": "iJB6r2Ly-jMp"
      },
      "source": [
        "# RANDOM FOREST CLASSIFIER\n",
        "from sklearn.ensemble import RandomForestClassifier\n",
        "from sklearn.metrics import confusion_matrix\n",
        "from sklearn.metrics import classification_report"
      ],
      "execution_count": null,
      "outputs": []
    },
    {
      "cell_type": "code",
      "metadata": {
        "id": "lzt9LrND-vKU"
      },
      "source": [
        ""
      ],
      "execution_count": null,
      "outputs": []
    },
    {
      "cell_type": "code",
      "metadata": {
        "id": "JjkzpkBQ2rul",
        "colab": {
          "base_uri": "https://localhost:8080/"
        },
        "outputId": "80023a6a-9e4e-498f-f420-24c70b4bc3c6"
      },
      "source": [
        "test_acc_rf=[]\n",
        "ypointsrf=[]\n",
        "for i in range(80,105):\n",
        "    x_resample = SelectKBest(f_classif, k=i).fit_transform(x_new, y_new) \n",
        "    \n",
        "    # train and valid sets from train\n",
        "    from sklearn.model_selection import train_test_split\n",
        "    x_train, x_valid, y_train, y_valid = train_test_split(x_resample, y_new, test_size = 0.2, random_state = 0)\n",
        "\n",
        "    # checking the shapes\n",
        "    print(x_train.shape)\n",
        "    # print(y_train.shape)\n",
        "    # print(x_valid.shape)\n",
        "    # print(y_valid.shape)\n",
        "\n",
        "\n",
        "\n",
        "    model_rf = RandomForestClassifier()\n",
        "    model_rf.fit(x_train, y_train)\n",
        "\n",
        "    y_predrf = model_rf.predict(x_valid)\n",
        "\n",
        "    print(\"Training Accuracy: \", model_rf.score(x_train, y_train))\n",
        "    print('Testing Accuarcy: ', model_rf.score(x_valid, y_valid))\n",
        "\n",
        "    # making a classification report\n",
        "    cr = classification_report(y_valid,  y_predrf)\n",
        "    print(cr)\n",
        "\n",
        "    # making a confusion matrix\n",
        "    # cm = confusion_matrix(y_valid, y_predrf)\n",
        "    # sns.heatmap(cm, annot = True)\n",
        "\n",
        "\n",
        "\n",
        "    \n",
        "\n",
        "    from sklearn.metrics import roc_auc_score\n",
        "    ypointsrf.append(roc_auc_score(y_valid, y_predrf))"
      ],
      "execution_count": null,
      "outputs": [
        {
          "output_type": "stream",
          "text": [
            "(204683, 80)\n",
            "Training Accuracy:  1.0\n",
            "Testing Accuarcy:  0.9769791483457427\n",
            "              precision    recall  f1-score   support\n",
            "\n",
            "         0.0       0.97      0.98      0.98     25562\n",
            "         1.0       0.98      0.97      0.98     25609\n",
            "\n",
            "    accuracy                           0.98     51171\n",
            "   macro avg       0.98      0.98      0.98     51171\n",
            "weighted avg       0.98      0.98      0.98     51171\n",
            "\n",
            "(204683, 81)\n",
            "Training Accuracy:  1.0\n",
            "Testing Accuarcy:  0.9768032674757187\n",
            "              precision    recall  f1-score   support\n",
            "\n",
            "         0.0       0.97      0.98      0.98     25562\n",
            "         1.0       0.98      0.97      0.98     25609\n",
            "\n",
            "    accuracy                           0.98     51171\n",
            "   macro avg       0.98      0.98      0.98     51171\n",
            "weighted avg       0.98      0.98      0.98     51171\n",
            "\n",
            "(204683, 82)\n",
            "Training Accuracy:  1.0\n",
            "Testing Accuarcy:  0.9768814367512849\n",
            "              precision    recall  f1-score   support\n",
            "\n",
            "         0.0       0.97      0.98      0.98     25562\n",
            "         1.0       0.98      0.97      0.98     25609\n",
            "\n",
            "    accuracy                           0.98     51171\n",
            "   macro avg       0.98      0.98      0.98     51171\n",
            "weighted avg       0.98      0.98      0.98     51171\n",
            "\n",
            "(204683, 83)\n",
            "Training Accuracy:  0.9999951143964081\n",
            "Testing Accuarcy:  0.9770377753024174\n",
            "              precision    recall  f1-score   support\n",
            "\n",
            "         0.0       0.97      0.98      0.98     25562\n",
            "         1.0       0.98      0.97      0.98     25609\n",
            "\n",
            "    accuracy                           0.98     51171\n",
            "   macro avg       0.98      0.98      0.98     51171\n",
            "weighted avg       0.98      0.98      0.98     51171\n",
            "\n",
            "(204683, 84)\n",
            "Training Accuracy:  0.9999951143964081\n",
            "Testing Accuarcy:  0.9772918254480076\n",
            "              precision    recall  f1-score   support\n",
            "\n",
            "         0.0       0.97      0.98      0.98     25562\n",
            "         1.0       0.98      0.97      0.98     25609\n",
            "\n",
            "    accuracy                           0.98     51171\n",
            "   macro avg       0.98      0.98      0.98     51171\n",
            "weighted avg       0.98      0.98      0.98     51171\n",
            "\n",
            "(204683, 85)\n",
            "Training Accuracy:  1.0\n",
            "Testing Accuarcy:  0.9770182329835259\n",
            "              precision    recall  f1-score   support\n",
            "\n",
            "         0.0       0.97      0.98      0.98     25562\n",
            "         1.0       0.98      0.97      0.98     25609\n",
            "\n",
            "    accuracy                           0.98     51171\n",
            "   macro avg       0.98      0.98      0.98     51171\n",
            "weighted avg       0.98      0.98      0.98     51171\n",
            "\n",
            "(204683, 86)\n",
            "Training Accuracy:  1.0\n",
            "Testing Accuarcy:  0.9774872486369233\n",
            "              precision    recall  f1-score   support\n",
            "\n",
            "         0.0       0.97      0.98      0.98     25562\n",
            "         1.0       0.98      0.97      0.98     25609\n",
            "\n",
            "    accuracy                           0.98     51171\n",
            "   macro avg       0.98      0.98      0.98     51171\n",
            "weighted avg       0.98      0.98      0.98     51171\n",
            "\n",
            "(204683, 87)\n",
            "Training Accuracy:  1.0\n",
            "Testing Accuarcy:  0.977545875593598\n",
            "              precision    recall  f1-score   support\n",
            "\n",
            "         0.0       0.97      0.98      0.98     25562\n",
            "         1.0       0.98      0.97      0.98     25609\n",
            "\n",
            "    accuracy                           0.98     51171\n",
            "   macro avg       0.98      0.98      0.98     51171\n",
            "weighted avg       0.98      0.98      0.98     51171\n",
            "\n",
            "(204683, 88)\n",
            "Training Accuracy:  1.0\n",
            "Testing Accuarcy:  0.9771159445779837\n",
            "              precision    recall  f1-score   support\n",
            "\n",
            "         0.0       0.97      0.98      0.98     25562\n",
            "         1.0       0.98      0.97      0.98     25609\n",
            "\n",
            "    accuracy                           0.98     51171\n",
            "   macro avg       0.98      0.98      0.98     51171\n",
            "weighted avg       0.98      0.98      0.98     51171\n",
            "\n",
            "(204683, 89)\n",
            "Training Accuracy:  0.9999951143964081\n",
            "Testing Accuarcy:  0.9771159445779837\n",
            "              precision    recall  f1-score   support\n",
            "\n",
            "         0.0       0.97      0.98      0.98     25562\n",
            "         1.0       0.98      0.97      0.98     25609\n",
            "\n",
            "    accuracy                           0.98     51171\n",
            "   macro avg       0.98      0.98      0.98     51171\n",
            "weighted avg       0.98      0.98      0.98     51171\n",
            "\n",
            "(204683, 90)\n",
            "Training Accuracy:  1.0\n",
            "Testing Accuarcy:  0.9773309100857908\n",
            "              precision    recall  f1-score   support\n",
            "\n",
            "         0.0       0.97      0.98      0.98     25562\n",
            "         1.0       0.98      0.97      0.98     25609\n",
            "\n",
            "    accuracy                           0.98     51171\n",
            "   macro avg       0.98      0.98      0.98     51171\n",
            "weighted avg       0.98      0.98      0.98     51171\n",
            "\n",
            "(204683, 91)\n",
            "Training Accuracy:  1.0\n",
            "Testing Accuarcy:  0.9778194680580797\n",
            "              precision    recall  f1-score   support\n",
            "\n",
            "         0.0       0.97      0.98      0.98     25562\n",
            "         1.0       0.98      0.97      0.98     25609\n",
            "\n",
            "    accuracy                           0.98     51171\n",
            "   macro avg       0.98      0.98      0.98     51171\n",
            "weighted avg       0.98      0.98      0.98     51171\n",
            "\n",
            "(204683, 92)\n",
            "Training Accuracy:  1.0\n",
            "Testing Accuarcy:  0.9775654179124895\n",
            "              precision    recall  f1-score   support\n",
            "\n",
            "         0.0       0.97      0.98      0.98     25562\n",
            "         1.0       0.98      0.97      0.98     25609\n",
            "\n",
            "    accuracy                           0.98     51171\n",
            "   macro avg       0.98      0.98      0.98     51171\n",
            "weighted avg       0.98      0.98      0.98     51171\n",
            "\n",
            "(204683, 93)\n",
            "Training Accuracy:  1.0\n",
            "Testing Accuarcy:  0.9777999257391882\n",
            "              precision    recall  f1-score   support\n",
            "\n",
            "         0.0       0.97      0.98      0.98     25562\n",
            "         1.0       0.98      0.97      0.98     25609\n",
            "\n",
            "    accuracy                           0.98     51171\n",
            "   macro avg       0.98      0.98      0.98     51171\n",
            "weighted avg       0.98      0.98      0.98     51171\n",
            "\n",
            "(204683, 94)\n",
            "Training Accuracy:  1.0\n",
            "Testing Accuarcy:  0.9772722831291161\n",
            "              precision    recall  f1-score   support\n",
            "\n",
            "         0.0       0.97      0.98      0.98     25562\n",
            "         1.0       0.98      0.97      0.98     25609\n",
            "\n",
            "    accuracy                           0.98     51171\n",
            "   macro avg       0.98      0.98      0.98     51171\n",
            "weighted avg       0.98      0.98      0.98     51171\n",
            "\n",
            "(204683, 95)\n",
            "Training Accuracy:  1.0\n",
            "Testing Accuarcy:  0.9775654179124895\n",
            "              precision    recall  f1-score   support\n",
            "\n",
            "         0.0       0.97      0.98      0.98     25562\n",
            "         1.0       0.98      0.97      0.98     25609\n",
            "\n",
            "    accuracy                           0.98     51171\n",
            "   macro avg       0.98      0.98      0.98     51171\n",
            "weighted avg       0.98      0.98      0.98     51171\n",
            "\n",
            "(204683, 96)\n",
            "Training Accuracy:  1.0\n",
            "Testing Accuarcy:  0.9774286216802486\n",
            "              precision    recall  f1-score   support\n",
            "\n",
            "         0.0       0.97      0.98      0.98     25562\n",
            "         1.0       0.98      0.97      0.98     25609\n",
            "\n",
            "    accuracy                           0.98     51171\n",
            "   macro avg       0.98      0.98      0.98     51171\n",
            "weighted avg       0.98      0.98      0.98     51171\n",
            "\n",
            "(204683, 97)\n",
            "Training Accuracy:  1.0\n",
            "Testing Accuarcy:  0.977057317621309\n",
            "              precision    recall  f1-score   support\n",
            "\n",
            "         0.0       0.97      0.98      0.98     25562\n",
            "         1.0       0.98      0.97      0.98     25609\n",
            "\n",
            "    accuracy                           0.98     51171\n",
            "   macro avg       0.98      0.98      0.98     51171\n",
            "weighted avg       0.98      0.98      0.98     51171\n",
            "\n",
            "(204683, 98)\n",
            "Training Accuracy:  1.0\n",
            "Testing Accuarcy:  0.9773895370424655\n",
            "              precision    recall  f1-score   support\n",
            "\n",
            "         0.0       0.97      0.98      0.98     25562\n",
            "         1.0       0.98      0.97      0.98     25609\n",
            "\n",
            "    accuracy                           0.98     51171\n",
            "   macro avg       0.98      0.98      0.98     51171\n",
            "weighted avg       0.98      0.98      0.98     51171\n",
            "\n",
            "(204683, 99)\n",
            "Training Accuracy:  1.0\n",
            "Testing Accuarcy:  0.9778194680580797\n",
            "              precision    recall  f1-score   support\n",
            "\n",
            "         0.0       0.97      0.98      0.98     25562\n",
            "         1.0       0.98      0.97      0.98     25609\n",
            "\n",
            "    accuracy                           0.98     51171\n",
            "   macro avg       0.98      0.98      0.98     51171\n",
            "weighted avg       0.98      0.98      0.98     51171\n",
            "\n",
            "(204683, 100)\n",
            "Training Accuracy:  1.0\n",
            "Testing Accuarcy:  0.9776240448691642\n",
            "              precision    recall  f1-score   support\n",
            "\n",
            "         0.0       0.97      0.98      0.98     25562\n",
            "         1.0       0.98      0.97      0.98     25609\n",
            "\n",
            "    accuracy                           0.98     51171\n",
            "   macro avg       0.98      0.98      0.98     51171\n",
            "weighted avg       0.98      0.98      0.98     51171\n",
            "\n",
            "(204683, 101)\n",
            "Training Accuracy:  1.0\n",
            "Testing Accuarcy:  0.9774481639991401\n",
            "              precision    recall  f1-score   support\n",
            "\n",
            "         0.0       0.97      0.98      0.98     25562\n",
            "         1.0       0.98      0.97      0.98     25609\n",
            "\n",
            "    accuracy                           0.98     51171\n",
            "   macro avg       0.98      0.98      0.98     51171\n",
            "weighted avg       0.98      0.98      0.98     51171\n",
            "\n",
            "(204683, 102)\n",
            "Training Accuracy:  1.0\n",
            "Testing Accuarcy:  0.977545875593598\n",
            "              precision    recall  f1-score   support\n",
            "\n",
            "         0.0       0.97      0.98      0.98     25562\n",
            "         1.0       0.98      0.97      0.98     25609\n",
            "\n",
            "    accuracy                           0.98     51171\n",
            "   macro avg       0.98      0.98      0.98     51171\n",
            "weighted avg       0.98      0.98      0.98     51171\n",
            "\n",
            "(204683, 103)\n",
            "Training Accuracy:  1.0\n",
            "Testing Accuarcy:  0.977760841101405\n",
            "              precision    recall  f1-score   support\n",
            "\n",
            "         0.0       0.97      0.98      0.98     25562\n",
            "         1.0       0.98      0.97      0.98     25609\n",
            "\n",
            "    accuracy                           0.98     51171\n",
            "   macro avg       0.98      0.98      0.98     51171\n",
            "weighted avg       0.98      0.98      0.98     51171\n",
            "\n",
            "(204683, 104)\n",
            "Training Accuracy:  1.0\n",
            "Testing Accuarcy:  0.9768423521135018\n",
            "              precision    recall  f1-score   support\n",
            "\n",
            "         0.0       0.97      0.98      0.98     25562\n",
            "         1.0       0.98      0.97      0.98     25609\n",
            "\n",
            "    accuracy                           0.98     51171\n",
            "   macro avg       0.98      0.98      0.98     51171\n",
            "weighted avg       0.98      0.98      0.98     51171\n",
            "\n"
          ],
          "name": "stdout"
        }
      ]
    },
    {
      "cell_type": "code",
      "metadata": {
        "id": "4e5MSzPo44Mc"
      },
      "source": [
        ""
      ],
      "execution_count": null,
      "outputs": []
    },
    {
      "cell_type": "code",
      "metadata": {
        "colab": {
          "base_uri": "https://localhost:8080/",
          "height": 281
        },
        "id": "5_j4vxn3zV89",
        "outputId": "7f8f425e-7c8c-46a9-a051-207a02bd0878"
      },
      "source": [
        "xpoints=list(range(50,96))\n",
        "plt.title(\" LOGISTIC REGRESSION\")\n",
        "plt.plot(xpoints,ypoints, linestyle = 'dotted')\n",
        "plt.show()  "
      ],
      "execution_count": null,
      "outputs": [
        {
          "output_type": "display_data",
          "data": {
            "image/png": "[encoded data removed]",
            "text/plain": [
              "<Figure size 432x288 with 1 Axes>"
            ]
          },
          "metadata": {
            "tags": [],
            "needs_background": "light"
          }
        }
      ]
    },
    {
      "cell_type": "code",
      "metadata": {
        "colab": {
          "base_uri": "https://localhost:8080/",
          "height": 281
        },
        "id": "HCZoJ1zw45kZ",
        "outputId": "a1eb1e05-25ca-4627-9271-9bb53e12564d"
      },
      "source": [
        "xpoints=list(range(70,96))\n",
        "plt.title(\" LOGISTIC REGRESSION f_classif\")\n",
        "plt.plot(xpoints,ypoints2, linestyle = 'dotted')\n",
        "plt.show()  "
      ],
      "execution_count": null,
      "outputs": [
        {
          "output_type": "display_data",
          "data": {
            "image/png": "[encoded data removed]",
            "text/plain": [
              "<Figure size 432x288 with 1 Axes>"
            ]
          },
          "metadata": {
            "tags": [],
            "needs_background": "light"
          }
        }
      ]
    },
    {
      "cell_type": "code",
      "metadata": {
        "id": "hRtsoRQC9Db9",
        "colab": {
          "base_uri": "https://localhost:8080/",
          "height": 281
        },
        "outputId": "debe6283-4d5d-4b1d-b3fb-1fc1cb99a477"
      },
      "source": [
        "xpoints=list(range(80,105))\n",
        "plt.title(\" RANDOM FOREST f_classif 80-104\")\n",
        "plt.plot(xpoints,ypointsrf, linestyle = 'dotted')\n",
        "plt.show()  "
      ],
      "execution_count": null,
      "outputs": [
        {
          "output_type": "display_data",
          "data": {
            "image/png": "[encoded data removed]",
            "text/plain": [
              "<Figure size 432x288 with 1 Axes>"
            ]
          },
          "metadata": {
            "tags": [],
            "needs_background": "light"
          }
        }
      ]
    },
    {
      "cell_type": "code",
      "metadata": {
        "id": "J0JErjVc9DMb"
      },
      "source": [
        ""
      ],
      "execution_count": null,
      "outputs": []
    },
    {
      "cell_type": "code",
      "metadata": {
        "colab": {
          "base_uri": "https://localhost:8080/"
        },
        "id": "m-sJWY0loSPi",
        "outputId": "fb9c65e6-a4fb-4185-a14e-0147636bb2ca"
      },
      "source": [
        "# applying SMOTE\n",
        "\n",
        "from imblearn.over_sampling import SMOTE\n",
        "\n",
        "x_resample, y_resample = SMOTE().fit_sample(X_new, y.values.ravel()) \n",
        "\n",
        "# checking the shape of x_resample and y_resample\n",
        "print(\"Shape of x:\", x_resample.shape)\n",
        "print(\"Shape of y:\", y_resample.shape)\n",
        "\n",
        "\n"
      ],
      "execution_count": null,
      "outputs": [
        {
          "output_type": "stream",
          "text": [
            "/usr/local/lib/python3.7/dist-packages/sklearn/utils/deprecation.py:87: FutureWarning: Function safe_indexing is deprecated; safe_indexing is deprecated in version 0.22 and will be removed in version 0.24.\n",
            "  warnings.warn(msg, category=FutureWarning)\n"
          ],
          "name": "stderr"
        },
        {
          "output_type": "stream",
          "text": [
            "Shape of x: (255854, 30)\n",
            "Shape of y: (255854,)\n"
          ],
          "name": "stdout"
        }
      ]
    },
    {
      "cell_type": "code",
      "metadata": {
        "colab": {
          "base_uri": "https://localhost:8080/"
        },
        "id": "uYOshf3JoSPu",
        "outputId": "ca8bdca9-62f6-4379-90da-d8284422c1c0"
      },
      "source": [
        "\n",
        "# train and valid sets from train\n",
        "from sklearn.model_selection import train_test_split\n",
        "\n",
        "x_train, x_valid, y_train, y_valid = train_test_split(x_resample, y_resample, test_size = 0.2, random_state = 0)\n",
        "\n",
        "# checking the shapes\n",
        "print(x_train.shape)\n",
        "print(y_train.shape)\n",
        "print(x_valid.shape)\n",
        "print(y_valid.shape)"
      ],
      "execution_count": null,
      "outputs": [
        {
          "output_type": "stream",
          "text": [
            "(204683, 30)\n",
            "(204683,)\n",
            "(51171, 30)\n",
            "(51171,)\n"
          ],
          "name": "stdout"
        }
      ]
    },
    {
      "cell_type": "code",
      "metadata": {
        "id": "oUxBfzjRoSPv"
      },
      "source": [
        "# applying standardization\n",
        "\n",
        "from sklearn.preprocessing import StandardScaler\n",
        "\n",
        "sc = StandardScaler()\n",
        "x_train = sc.fit_transform(x_train)\n",
        "x_valid = sc.transform(x_valid)\n",
        "# x_test = sc.transform(x_test)"
      ],
      "execution_count": null,
      "outputs": []
    },
    {
      "cell_type": "code",
      "metadata": {
        "colab": {
          "base_uri": "https://localhost:8080/",
          "height": 605
        },
        "id": "Jle7MoUhoSPw",
        "outputId": "42d742ca-0b9e-45c2-e8d1-83e977601733"
      },
      "source": [
        "# LOGISTIC REGRESSION CLASSIFIER\n",
        "\n",
        "from sklearn.linear_model import LogisticRegression\n",
        "from sklearn.metrics import confusion_matrix\n",
        "from sklearn.metrics import classification_report\n",
        "\n",
        "model_LG = LogisticRegression()\n",
        "model_LG.fit(x_train, y_train)\n",
        "\n",
        "y_pred = model_LG.predict(x_valid)\n",
        "\n",
        "print(\"Training Accuracy: \", model_LG.score(x_train, y_train))\n",
        "print('Testing Accuarcy: ', model_LG.score(x_valid, y_valid))\n",
        "\n",
        "# making a classification report\n",
        "cr = classification_report(y_valid,  y_pred)\n",
        "print(cr)\n",
        "\n",
        "# making a confusion matrix\n",
        "cm = confusion_matrix(y_valid, y_pred)\n",
        "sns.heatmap(cm, annot = True)"
      ],
      "execution_count": null,
      "outputs": [
        {
          "output_type": "stream",
          "text": [
            "/usr/local/lib/python3.7/dist-packages/sklearn/linear_model/_logistic.py:940: ConvergenceWarning: lbfgs failed to converge (status=1):\n",
            "STOP: TOTAL NO. of ITERATIONS REACHED LIMIT.\n",
            "\n",
            "Increase the number of iterations (max_iter) or scale the data as shown in:\n",
            "    https://scikit-learn.org/stable/modules/preprocessing.html\n",
            "Please also refer to the documentation for alternative solver options:\n",
            "    https://scikit-learn.org/stable/modules/linear_model.html#logistic-regression\n",
            "  extra_warning_msg=_LOGISTIC_SOLVER_CONVERGENCE_MSG)\n"
          ],
          "name": "stderr"
        },
        {
          "output_type": "stream",
          "text": [
            "Training Accuracy:  0.7072350903592385\n",
            "Testing Accuarcy:  0.7080572980789901\n",
            "              precision    recall  f1-score   support\n",
            "\n",
            "         0.0       0.71      0.69      0.70     25562\n",
            "         1.0       0.70      0.72      0.71     25609\n",
            "\n",
            "    accuracy                           0.71     51171\n",
            "   macro avg       0.71      0.71      0.71     51171\n",
            "weighted avg       0.71      0.71      0.71     51171\n",
            "\n"
          ],
          "name": "stdout"
        },
        {
          "output_type": "execute_result",
          "data": {
            "text/plain": [
              "<matplotlib.axes._subplots.AxesSubplot at 0x7fd14bc99a50>"
            ]
          },
          "metadata": {
            "tags": []
          },
          "execution_count": 110
        },
        {
          "output_type": "display_data",
          "data": {
            "image/png": "[encoded data removed]",
            "text/plain": [
              "<Figure size 432x288 with 2 Axes>"
            ]
          },
          "metadata": {
            "tags": [],
            "needs_background": "light"
          }
        }
      ]
    },
    {
      "cell_type": "code",
      "metadata": {
        "colab": {
          "base_uri": "https://localhost:8080/"
        },
        "id": "zbUE8q-joSPx",
        "outputId": "8ad99791-0354-430e-9421-a92fc60e43d9"
      },
      "source": [
        "from sklearn.metrics import roc_auc_score\n",
        "print(\"auc score =\\t\" ,roc_auc_score(y_valid, y_pred))"
      ],
      "execution_count": null,
      "outputs": [
        {
          "output_type": "stream",
          "text": [
            "auc score =\t 0.7080420640239216\n"
          ],
          "name": "stdout"
        }
      ]
    },
    {
      "cell_type": "code",
      "metadata": {
        "colab": {
          "base_uri": "https://localhost:8080/",
          "height": 374
        },
        "id": "lc6XojeooSPy",
        "outputId": "dbc992df-e464-41bd-f816-3054da9da206"
      },
      "source": [
        "# RANDOM FOREST CLASSIFIER\n",
        "from sklearn.ensemble import RandomForestClassifier\n",
        "from sklearn.metrics import confusion_matrix\n",
        "from sklearn.metrics import classification_report\n",
        "\n",
        "model_rf = RandomForestClassifier()\n",
        "model_rf.fit(x_train, y_train)\n",
        "\n",
        "y_predrf = model_rf.predict(x_valid)\n",
        "\n",
        "print(\"Training Accuracy: \", model_rf.score(x_train, y_train))\n",
        "print('Testing Accuarcy: ', model_rf.score(x_valid, y_valid))\n",
        "\n",
        "# making a classification report\n",
        "cr = classification_report(y_valid,  y_predrf)\n",
        "print(cr)\n",
        "\n",
        "# making a confusion matrix\n",
        "cm = confusion_matrix(y_valid, y_predrf)\n",
        "sns.heatmap(cm, annot = True)"
      ],
      "execution_count": null,
      "outputs": [
        {
          "output_type": "error",
          "ename": "KeyboardInterrupt",
          "evalue": "ignored",
          "traceback": [
            "\u001b[0;31m---------------------------------------------------------------------------\u001b[0m",
            "\u001b[0;31mKeyboardInterrupt\u001b[0m                         Traceback (most recent call last)",
            "\u001b[0;32m<ipython-input-61-5344072ea661>\u001b[0m in \u001b[0;36m<module>\u001b[0;34m()\u001b[0m\n\u001b[1;32m      5\u001b[0m \u001b[0;34m\u001b[0m\u001b[0m\n\u001b[1;32m      6\u001b[0m \u001b[0mmodel_rf\u001b[0m \u001b[0;34m=\u001b[0m \u001b[0mRandomForestClassifier\u001b[0m\u001b[0;34m(\u001b[0m\u001b[0;34m)\u001b[0m\u001b[0;34m\u001b[0m\u001b[0;34m\u001b[0m\u001b[0m\n\u001b[0;32m----> 7\u001b[0;31m \u001b[0mmodel_rf\u001b[0m\u001b[0;34m.\u001b[0m\u001b[0mfit\u001b[0m\u001b[0;34m(\u001b[0m\u001b[0mx_train\u001b[0m\u001b[0;34m,\u001b[0m \u001b[0my_train\u001b[0m\u001b[0;34m)\u001b[0m\u001b[0;34m\u001b[0m\u001b[0;34m\u001b[0m\u001b[0m\n\u001b[0m\u001b[1;32m      8\u001b[0m \u001b[0;34m\u001b[0m\u001b[0m\n\u001b[1;32m      9\u001b[0m \u001b[0my_predrf\u001b[0m \u001b[0;34m=\u001b[0m \u001b[0mmodel_rf\u001b[0m\u001b[0;34m.\u001b[0m\u001b[0mpredict\u001b[0m\u001b[0;34m(\u001b[0m\u001b[0mx_valid\u001b[0m\u001b[0;34m)\u001b[0m\u001b[0;34m\u001b[0m\u001b[0;34m\u001b[0m\u001b[0m\n",
            "\u001b[0;32m/usr/local/lib/python3.7/dist-packages/sklearn/ensemble/_forest.py\u001b[0m in \u001b[0;36mfit\u001b[0;34m(self, X, y, sample_weight)\u001b[0m\n\u001b[1;32m    381\u001b[0m                     \u001b[0mverbose\u001b[0m\u001b[0;34m=\u001b[0m\u001b[0mself\u001b[0m\u001b[0;34m.\u001b[0m\u001b[0mverbose\u001b[0m\u001b[0;34m,\u001b[0m \u001b[0mclass_weight\u001b[0m\u001b[0;34m=\u001b[0m\u001b[0mself\u001b[0m\u001b[0;34m.\u001b[0m\u001b[0mclass_weight\u001b[0m\u001b[0;34m,\u001b[0m\u001b[0;34m\u001b[0m\u001b[0;34m\u001b[0m\u001b[0m\n\u001b[1;32m    382\u001b[0m                     n_samples_bootstrap=n_samples_bootstrap)\n\u001b[0;32m--> 383\u001b[0;31m                 for i, t in enumerate(trees))\n\u001b[0m\u001b[1;32m    384\u001b[0m \u001b[0;34m\u001b[0m\u001b[0m\n\u001b[1;32m    385\u001b[0m             \u001b[0;31m# Collect newly grown trees\u001b[0m\u001b[0;34m\u001b[0m\u001b[0;34m\u001b[0m\u001b[0;34m\u001b[0m\u001b[0m\n",
            "\u001b[0;32m/usr/local/lib/python3.7/dist-packages/joblib/parallel.py\u001b[0m in \u001b[0;36m__call__\u001b[0;34m(self, iterable)\u001b[0m\n\u001b[1;32m   1042\u001b[0m                 \u001b[0mself\u001b[0m\u001b[0;34m.\u001b[0m\u001b[0m_iterating\u001b[0m \u001b[0;34m=\u001b[0m \u001b[0mself\u001b[0m\u001b[0;34m.\u001b[0m\u001b[0m_original_iterator\u001b[0m \u001b[0;32mis\u001b[0m \u001b[0;32mnot\u001b[0m \u001b[0;32mNone\u001b[0m\u001b[0;34m\u001b[0m\u001b[0;34m\u001b[0m\u001b[0m\n\u001b[1;32m   1043\u001b[0m \u001b[0;34m\u001b[0m\u001b[0m\n\u001b[0;32m-> 1044\u001b[0;31m             \u001b[0;32mwhile\u001b[0m \u001b[0mself\u001b[0m\u001b[0;34m.\u001b[0m\u001b[0mdispatch_one_batch\u001b[0m\u001b[0;34m(\u001b[0m\u001b[0miterator\u001b[0m\u001b[0;34m)\u001b[0m\u001b[0;34m:\u001b[0m\u001b[0;34m\u001b[0m\u001b[0;34m\u001b[0m\u001b[0m\n\u001b[0m\u001b[1;32m   1045\u001b[0m                 \u001b[0;32mpass\u001b[0m\u001b[0;34m\u001b[0m\u001b[0;34m\u001b[0m\u001b[0m\n\u001b[1;32m   1046\u001b[0m \u001b[0;34m\u001b[0m\u001b[0m\n",
            "\u001b[0;32m/usr/local/lib/python3.7/dist-packages/joblib/parallel.py\u001b[0m in \u001b[0;36mdispatch_one_batch\u001b[0;34m(self, iterator)\u001b[0m\n\u001b[1;32m    857\u001b[0m                 \u001b[0;32mreturn\u001b[0m \u001b[0;32mFalse\u001b[0m\u001b[0;34m\u001b[0m\u001b[0;34m\u001b[0m\u001b[0m\n\u001b[1;32m    858\u001b[0m             \u001b[0;32melse\u001b[0m\u001b[0;34m:\u001b[0m\u001b[0;34m\u001b[0m\u001b[0;34m\u001b[0m\u001b[0m\n\u001b[0;32m--> 859\u001b[0;31m                 \u001b[0mself\u001b[0m\u001b[0;34m.\u001b[0m\u001b[0m_dispatch\u001b[0m\u001b[0;34m(\u001b[0m\u001b[0mtasks\u001b[0m\u001b[0;34m)\u001b[0m\u001b[0;34m\u001b[0m\u001b[0;34m\u001b[0m\u001b[0m\n\u001b[0m\u001b[1;32m    860\u001b[0m                 \u001b[0;32mreturn\u001b[0m \u001b[0;32mTrue\u001b[0m\u001b[0;34m\u001b[0m\u001b[0;34m\u001b[0m\u001b[0m\n\u001b[1;32m    861\u001b[0m \u001b[0;34m\u001b[0m\u001b[0m\n",
            "\u001b[0;32m/usr/local/lib/python3.7/dist-packages/joblib/parallel.py\u001b[0m in \u001b[0;36m_dispatch\u001b[0;34m(self, batch)\u001b[0m\n\u001b[1;32m    775\u001b[0m         \u001b[0;32mwith\u001b[0m \u001b[0mself\u001b[0m\u001b[0;34m.\u001b[0m\u001b[0m_lock\u001b[0m\u001b[0;34m:\u001b[0m\u001b[0;34m\u001b[0m\u001b[0;34m\u001b[0m\u001b[0m\n\u001b[1;32m    776\u001b[0m             \u001b[0mjob_idx\u001b[0m \u001b[0;34m=\u001b[0m \u001b[0mlen\u001b[0m\u001b[0;34m(\u001b[0m\u001b[0mself\u001b[0m\u001b[0;34m.\u001b[0m\u001b[0m_jobs\u001b[0m\u001b[0;34m)\u001b[0m\u001b[0;34m\u001b[0m\u001b[0;34m\u001b[0m\u001b[0m\n\u001b[0;32m--> 777\u001b[0;31m             \u001b[0mjob\u001b[0m \u001b[0;34m=\u001b[0m \u001b[0mself\u001b[0m\u001b[0;34m.\u001b[0m\u001b[0m_backend\u001b[0m\u001b[0;34m.\u001b[0m\u001b[0mapply_async\u001b[0m\u001b[0;34m(\u001b[0m\u001b[0mbatch\u001b[0m\u001b[0;34m,\u001b[0m \u001b[0mcallback\u001b[0m\u001b[0;34m=\u001b[0m\u001b[0mcb\u001b[0m\u001b[0;34m)\u001b[0m\u001b[0;34m\u001b[0m\u001b[0;34m\u001b[0m\u001b[0m\n\u001b[0m\u001b[1;32m    778\u001b[0m             \u001b[0;31m# A job can complete so quickly than its callback is\u001b[0m\u001b[0;34m\u001b[0m\u001b[0;34m\u001b[0m\u001b[0;34m\u001b[0m\u001b[0m\n\u001b[1;32m    779\u001b[0m             \u001b[0;31m# called before we get here, causing self._jobs to\u001b[0m\u001b[0;34m\u001b[0m\u001b[0;34m\u001b[0m\u001b[0;34m\u001b[0m\u001b[0m\n",
            "\u001b[0;32m/usr/local/lib/python3.7/dist-packages/joblib/_parallel_backends.py\u001b[0m in \u001b[0;36mapply_async\u001b[0;34m(self, func, callback)\u001b[0m\n\u001b[1;32m    206\u001b[0m     \u001b[0;32mdef\u001b[0m \u001b[0mapply_async\u001b[0m\u001b[0;34m(\u001b[0m\u001b[0mself\u001b[0m\u001b[0;34m,\u001b[0m \u001b[0mfunc\u001b[0m\u001b[0;34m,\u001b[0m \u001b[0mcallback\u001b[0m\u001b[0;34m=\u001b[0m\u001b[0;32mNone\u001b[0m\u001b[0;34m)\u001b[0m\u001b[0;34m:\u001b[0m\u001b[0;34m\u001b[0m\u001b[0;34m\u001b[0m\u001b[0m\n\u001b[1;32m    207\u001b[0m         \u001b[0;34m\"\"\"Schedule a func to be run\"\"\"\u001b[0m\u001b[0;34m\u001b[0m\u001b[0;34m\u001b[0m\u001b[0m\n\u001b[0;32m--> 208\u001b[0;31m         \u001b[0mresult\u001b[0m \u001b[0;34m=\u001b[0m \u001b[0mImmediateResult\u001b[0m\u001b[0;34m(\u001b[0m\u001b[0mfunc\u001b[0m\u001b[0;34m)\u001b[0m\u001b[0;34m\u001b[0m\u001b[0;34m\u001b[0m\u001b[0m\n\u001b[0m\u001b[1;32m    209\u001b[0m         \u001b[0;32mif\u001b[0m \u001b[0mcallback\u001b[0m\u001b[0;34m:\u001b[0m\u001b[0;34m\u001b[0m\u001b[0;34m\u001b[0m\u001b[0m\n\u001b[1;32m    210\u001b[0m             \u001b[0mcallback\u001b[0m\u001b[0;34m(\u001b[0m\u001b[0mresult\u001b[0m\u001b[0;34m)\u001b[0m\u001b[0;34m\u001b[0m\u001b[0;34m\u001b[0m\u001b[0m\n",
            "\u001b[0;32m/usr/local/lib/python3.7/dist-packages/joblib/_parallel_backends.py\u001b[0m in \u001b[0;36m__init__\u001b[0;34m(self, batch)\u001b[0m\n\u001b[1;32m    570\u001b[0m         \u001b[0;31m# Don't delay the application, to avoid keeping the input\u001b[0m\u001b[0;34m\u001b[0m\u001b[0;34m\u001b[0m\u001b[0;34m\u001b[0m\u001b[0m\n\u001b[1;32m    571\u001b[0m         \u001b[0;31m# arguments in memory\u001b[0m\u001b[0;34m\u001b[0m\u001b[0;34m\u001b[0m\u001b[0;34m\u001b[0m\u001b[0m\n\u001b[0;32m--> 572\u001b[0;31m         \u001b[0mself\u001b[0m\u001b[0;34m.\u001b[0m\u001b[0mresults\u001b[0m \u001b[0;34m=\u001b[0m \u001b[0mbatch\u001b[0m\u001b[0;34m(\u001b[0m\u001b[0;34m)\u001b[0m\u001b[0;34m\u001b[0m\u001b[0;34m\u001b[0m\u001b[0m\n\u001b[0m\u001b[1;32m    573\u001b[0m \u001b[0;34m\u001b[0m\u001b[0m\n\u001b[1;32m    574\u001b[0m     \u001b[0;32mdef\u001b[0m \u001b[0mget\u001b[0m\u001b[0;34m(\u001b[0m\u001b[0mself\u001b[0m\u001b[0;34m)\u001b[0m\u001b[0;34m:\u001b[0m\u001b[0;34m\u001b[0m\u001b[0;34m\u001b[0m\u001b[0m\n",
            "\u001b[0;32m/usr/local/lib/python3.7/dist-packages/joblib/parallel.py\u001b[0m in \u001b[0;36m__call__\u001b[0;34m(self)\u001b[0m\n\u001b[1;32m    261\u001b[0m         \u001b[0;32mwith\u001b[0m \u001b[0mparallel_backend\u001b[0m\u001b[0;34m(\u001b[0m\u001b[0mself\u001b[0m\u001b[0;34m.\u001b[0m\u001b[0m_backend\u001b[0m\u001b[0;34m,\u001b[0m \u001b[0mn_jobs\u001b[0m\u001b[0;34m=\u001b[0m\u001b[0mself\u001b[0m\u001b[0;34m.\u001b[0m\u001b[0m_n_jobs\u001b[0m\u001b[0;34m)\u001b[0m\u001b[0;34m:\u001b[0m\u001b[0;34m\u001b[0m\u001b[0;34m\u001b[0m\u001b[0m\n\u001b[1;32m    262\u001b[0m             return [func(*args, **kwargs)\n\u001b[0;32m--> 263\u001b[0;31m                     for func, args, kwargs in self.items]\n\u001b[0m\u001b[1;32m    264\u001b[0m \u001b[0;34m\u001b[0m\u001b[0m\n\u001b[1;32m    265\u001b[0m     \u001b[0;32mdef\u001b[0m \u001b[0m__reduce__\u001b[0m\u001b[0;34m(\u001b[0m\u001b[0mself\u001b[0m\u001b[0;34m)\u001b[0m\u001b[0;34m:\u001b[0m\u001b[0;34m\u001b[0m\u001b[0;34m\u001b[0m\u001b[0m\n",
            "\u001b[0;32m/usr/local/lib/python3.7/dist-packages/joblib/parallel.py\u001b[0m in \u001b[0;36m<listcomp>\u001b[0;34m(.0)\u001b[0m\n\u001b[1;32m    261\u001b[0m         \u001b[0;32mwith\u001b[0m \u001b[0mparallel_backend\u001b[0m\u001b[0;34m(\u001b[0m\u001b[0mself\u001b[0m\u001b[0;34m.\u001b[0m\u001b[0m_backend\u001b[0m\u001b[0;34m,\u001b[0m \u001b[0mn_jobs\u001b[0m\u001b[0;34m=\u001b[0m\u001b[0mself\u001b[0m\u001b[0;34m.\u001b[0m\u001b[0m_n_jobs\u001b[0m\u001b[0;34m)\u001b[0m\u001b[0;34m:\u001b[0m\u001b[0;34m\u001b[0m\u001b[0;34m\u001b[0m\u001b[0m\n\u001b[1;32m    262\u001b[0m             return [func(*args, **kwargs)\n\u001b[0;32m--> 263\u001b[0;31m                     for func, args, kwargs in self.items]\n\u001b[0m\u001b[1;32m    264\u001b[0m \u001b[0;34m\u001b[0m\u001b[0m\n\u001b[1;32m    265\u001b[0m     \u001b[0;32mdef\u001b[0m \u001b[0m__reduce__\u001b[0m\u001b[0;34m(\u001b[0m\u001b[0mself\u001b[0m\u001b[0;34m)\u001b[0m\u001b[0;34m:\u001b[0m\u001b[0;34m\u001b[0m\u001b[0;34m\u001b[0m\u001b[0m\n",
            "\u001b[0;32m/usr/local/lib/python3.7/dist-packages/sklearn/ensemble/_forest.py\u001b[0m in \u001b[0;36m_parallel_build_trees\u001b[0;34m(tree, forest, X, y, sample_weight, tree_idx, n_trees, verbose, class_weight, n_samples_bootstrap)\u001b[0m\n\u001b[1;32m    163\u001b[0m             \u001b[0mcurr_sample_weight\u001b[0m \u001b[0;34m*=\u001b[0m \u001b[0mcompute_sample_weight\u001b[0m\u001b[0;34m(\u001b[0m\u001b[0;34m'balanced'\u001b[0m\u001b[0;34m,\u001b[0m \u001b[0my\u001b[0m\u001b[0;34m,\u001b[0m \u001b[0mindices\u001b[0m\u001b[0;34m)\u001b[0m\u001b[0;34m\u001b[0m\u001b[0;34m\u001b[0m\u001b[0m\n\u001b[1;32m    164\u001b[0m \u001b[0;34m\u001b[0m\u001b[0m\n\u001b[0;32m--> 165\u001b[0;31m         \u001b[0mtree\u001b[0m\u001b[0;34m.\u001b[0m\u001b[0mfit\u001b[0m\u001b[0;34m(\u001b[0m\u001b[0mX\u001b[0m\u001b[0;34m,\u001b[0m \u001b[0my\u001b[0m\u001b[0;34m,\u001b[0m \u001b[0msample_weight\u001b[0m\u001b[0;34m=\u001b[0m\u001b[0mcurr_sample_weight\u001b[0m\u001b[0;34m,\u001b[0m \u001b[0mcheck_input\u001b[0m\u001b[0;34m=\u001b[0m\u001b[0;32mFalse\u001b[0m\u001b[0;34m)\u001b[0m\u001b[0;34m\u001b[0m\u001b[0;34m\u001b[0m\u001b[0m\n\u001b[0m\u001b[1;32m    166\u001b[0m     \u001b[0;32melse\u001b[0m\u001b[0;34m:\u001b[0m\u001b[0;34m\u001b[0m\u001b[0;34m\u001b[0m\u001b[0m\n\u001b[1;32m    167\u001b[0m         \u001b[0mtree\u001b[0m\u001b[0;34m.\u001b[0m\u001b[0mfit\u001b[0m\u001b[0;34m(\u001b[0m\u001b[0mX\u001b[0m\u001b[0;34m,\u001b[0m \u001b[0my\u001b[0m\u001b[0;34m,\u001b[0m \u001b[0msample_weight\u001b[0m\u001b[0;34m=\u001b[0m\u001b[0msample_weight\u001b[0m\u001b[0;34m,\u001b[0m \u001b[0mcheck_input\u001b[0m\u001b[0;34m=\u001b[0m\u001b[0;32mFalse\u001b[0m\u001b[0;34m)\u001b[0m\u001b[0;34m\u001b[0m\u001b[0;34m\u001b[0m\u001b[0m\n",
            "\u001b[0;32m/usr/local/lib/python3.7/dist-packages/sklearn/tree/_classes.py\u001b[0m in \u001b[0;36mfit\u001b[0;34m(self, X, y, sample_weight, check_input, X_idx_sorted)\u001b[0m\n\u001b[1;32m    875\u001b[0m             \u001b[0msample_weight\u001b[0m\u001b[0;34m=\u001b[0m\u001b[0msample_weight\u001b[0m\u001b[0;34m,\u001b[0m\u001b[0;34m\u001b[0m\u001b[0;34m\u001b[0m\u001b[0m\n\u001b[1;32m    876\u001b[0m             \u001b[0mcheck_input\u001b[0m\u001b[0;34m=\u001b[0m\u001b[0mcheck_input\u001b[0m\u001b[0;34m,\u001b[0m\u001b[0;34m\u001b[0m\u001b[0;34m\u001b[0m\u001b[0m\n\u001b[0;32m--> 877\u001b[0;31m             X_idx_sorted=X_idx_sorted)\n\u001b[0m\u001b[1;32m    878\u001b[0m         \u001b[0;32mreturn\u001b[0m \u001b[0mself\u001b[0m\u001b[0;34m\u001b[0m\u001b[0;34m\u001b[0m\u001b[0m\n\u001b[1;32m    879\u001b[0m \u001b[0;34m\u001b[0m\u001b[0m\n",
            "\u001b[0;32m/usr/local/lib/python3.7/dist-packages/sklearn/tree/_classes.py\u001b[0m in \u001b[0;36mfit\u001b[0;34m(self, X, y, sample_weight, check_input, X_idx_sorted)\u001b[0m\n\u001b[1;32m    365\u001b[0m                                            min_impurity_split)\n\u001b[1;32m    366\u001b[0m \u001b[0;34m\u001b[0m\u001b[0m\n\u001b[0;32m--> 367\u001b[0;31m         \u001b[0mbuilder\u001b[0m\u001b[0;34m.\u001b[0m\u001b[0mbuild\u001b[0m\u001b[0;34m(\u001b[0m\u001b[0mself\u001b[0m\u001b[0;34m.\u001b[0m\u001b[0mtree_\u001b[0m\u001b[0;34m,\u001b[0m \u001b[0mX\u001b[0m\u001b[0;34m,\u001b[0m \u001b[0my\u001b[0m\u001b[0;34m,\u001b[0m \u001b[0msample_weight\u001b[0m\u001b[0;34m,\u001b[0m \u001b[0mX_idx_sorted\u001b[0m\u001b[0;34m)\u001b[0m\u001b[0;34m\u001b[0m\u001b[0;34m\u001b[0m\u001b[0m\n\u001b[0m\u001b[1;32m    368\u001b[0m \u001b[0;34m\u001b[0m\u001b[0m\n\u001b[1;32m    369\u001b[0m         \u001b[0;32mif\u001b[0m \u001b[0mself\u001b[0m\u001b[0;34m.\u001b[0m\u001b[0mn_outputs_\u001b[0m \u001b[0;34m==\u001b[0m \u001b[0;36m1\u001b[0m \u001b[0;32mand\u001b[0m \u001b[0mis_classifier\u001b[0m\u001b[0;34m(\u001b[0m\u001b[0mself\u001b[0m\u001b[0;34m)\u001b[0m\u001b[0;34m:\u001b[0m\u001b[0;34m\u001b[0m\u001b[0;34m\u001b[0m\u001b[0m\n",
            "\u001b[0;31mKeyboardInterrupt\u001b[0m: "
          ]
        }
      ]
    },
    {
      "cell_type": "code",
      "metadata": {
        "colab": {
          "base_uri": "https://localhost:8080/"
        },
        "id": "Mclhy-gloSPz",
        "outputId": "cb219a30-85a4-4388-aeeb-730ebc9e9f92"
      },
      "source": [
        "from sklearn.metrics import roc_auc_score\n",
        "print(\"auc score =\\t\" ,roc_auc_score(y_valid, y_predrf))"
      ],
      "execution_count": null,
      "outputs": [
        {
          "output_type": "stream",
          "text": [
            "auc score =\t 0.961628505522841\n"
          ],
          "name": "stdout"
        }
      ]
    },
    {
      "cell_type": "code",
      "metadata": {
        "colab": {
          "base_uri": "https://localhost:8080/",
          "height": 469
        },
        "id": "0Sr04_IkoSP0",
        "outputId": "c5f18fdc-05cb-4363-db4d-93b73af70d61"
      },
      "source": [
        "# Xg-Boost Classifier\n",
        "\n",
        "from xgboost.sklearn import XGBClassifier\n",
        "from sklearn.metrics import confusion_matrix\n",
        "from sklearn.metrics import classification_report\n",
        "\n",
        "model_xgb = XGBClassifier()\n",
        "model_xgb.fit(x_train, y_train)\n",
        "\n",
        "y_predxg = model_xgb.predict(x_valid)\n",
        "\n",
        "print(\"Training Accuracy: \", model_xgb.score(x_train, y_train))\n",
        "print('Testing Accuarcy: ', model_xgb.score(x_valid, y_valid))\n",
        "\n",
        "# making a classification report\n",
        "cr = classification_report(y_valid,  y_predxg)\n",
        "print(cr)\n",
        "\n",
        "# making a confusion matrix\n",
        "cm = confusion_matrix(y_valid, y_predxg)\n",
        "sns.heatmap(cm, annot = True)"
      ],
      "execution_count": null,
      "outputs": [
        {
          "output_type": "stream",
          "text": [
            "Training Accuracy:  0.8007748567296746\n",
            "Testing Accuarcy:  0.7984796075902366\n",
            "              precision    recall  f1-score   support\n",
            "\n",
            "         0.0       0.79      0.81      0.80     25562\n",
            "         1.0       0.80      0.79      0.80     25609\n",
            "\n",
            "    accuracy                           0.80     51171\n",
            "   macro avg       0.80      0.80      0.80     51171\n",
            "weighted avg       0.80      0.80      0.80     51171\n",
            "\n"
          ],
          "name": "stdout"
        },
        {
          "output_type": "execute_result",
          "data": {
            "text/plain": [
              "<matplotlib.axes._subplots.AxesSubplot at 0x7fd158a18e50>"
            ]
          },
          "metadata": {
            "tags": []
          },
          "execution_count": 114
        },
        {
          "output_type": "display_data",
          "data": {
            "image/png": "[encoded data removed]",
            "text/plain": [
              "<Figure size 432x288 with 2 Axes>"
            ]
          },
          "metadata": {
            "tags": [],
            "needs_background": "light"
          }
        }
      ]
    },
    {
      "cell_type": "code",
      "metadata": {
        "colab": {
          "base_uri": "https://localhost:8080/"
        },
        "id": "jWS29N6FoSP1",
        "outputId": "da6fcadf-f8c6-498f-e645-99c151cbf4d6"
      },
      "source": [
        "from sklearn.metrics import roc_auc_score\n",
        "print(\"auc score =\\t\" ,roc_auc_score(y_valid, y_predxg))"
      ],
      "execution_count": null,
      "outputs": [
        {
          "output_type": "stream",
          "text": [
            "auc score =\t 0.7984875148219817\n"
          ],
          "name": "stdout"
        }
      ]
    },
    {
      "cell_type": "code",
      "metadata": {
        "colab": {
          "base_uri": "https://localhost:8080/"
        },
        "id": "KiafAOUToSP1",
        "outputId": "42632d56-9723-4d71-e352-73c64455a4db"
      },
      "source": [
        "# getting the avg precision score\n",
        "from sklearn.metrics import average_precision_score\n",
        "\n",
        "apc = average_precision_score(y_valid, y_predxg)\n",
        "print('Average Precision Score :', apc)"
      ],
      "execution_count": null,
      "outputs": [
        {
          "output_type": "stream",
          "text": [
            "Average Precision Score : 0.9364376863690973\n"
          ],
          "name": "stdout"
        }
      ]
    },
    {
      "cell_type": "code",
      "metadata": {
        "id": "9HhTYwruoSP2"
      },
      "source": [
        "# # plotting an AUC ROC Curve\n",
        "\n",
        "# from sklearn.metrics import precision_recall_curve\n",
        "# from sklearn.utils.fixes import signature\n",
        "\n",
        "# precision, recall, _ = precision_recall_curve(y_valid, y_pred)\n",
        "\n",
        "# step_kwargs = ({'step':'post'} if 'step' in signature(plt.fill_between).parameters else{})\n",
        "\n",
        "# plt.step(recall, precision, color = 'pink', alpha = 0.6, where = 'post')\n",
        "# plt.fill_between(recall, precision, color = 'pink', alpha = 0.6, **step_kwargs)\n",
        "\n",
        "# plt.title('Precision Recall Curve')\n",
        "# plt.xlabel('Recall', fontsize = 15)\n",
        "# plt.ylabel('Precision', fontsize =15)\n",
        "# plt.ylim([0.0, 1.05])\n",
        "# plt.xlim([0.0, 1.0])"
      ],
      "execution_count": null,
      "outputs": []
    },
    {
      "cell_type": "code",
      "metadata": {
        "colab": {
          "base_uri": "https://localhost:8080/",
          "height": 469
        },
        "id": "5lKqYM4IoSP3",
        "outputId": "80a280af-dc3c-4f34-df8d-16d10ee48314"
      },
      "source": [
        "# ADA BOOST CLASSIFIER\n",
        "\n",
        "from sklearn.ensemble import AdaBoostClassifier\n",
        "from sklearn.metrics import confusion_matrix\n",
        "from sklearn.metrics import classification_report\n",
        "\n",
        "model_ada = AdaBoostClassifier()\n",
        "model_ada.fit(x_train, y_train)\n",
        "\n",
        "y_predada = model_ada.predict(x_valid)\n",
        "\n",
        "print(\"Training Accuracy: \", model_ada.score(x_train, y_train))\n",
        "print('Testing Accuarcy: ', model_ada.score(x_valid, y_valid))\n",
        "\n",
        "# making a classification report\n",
        "cr = classification_report(y_valid,  y_predada)\n",
        "print(cr)\n",
        "\n",
        "# making a confusion matrix\n",
        "cm = confusion_matrix(y_valid, y_predada)\n",
        "sns.heatmap(cm, annot = True)"
      ],
      "execution_count": null,
      "outputs": [
        {
          "output_type": "stream",
          "text": [
            "Training Accuracy:  0.9187133274380384\n",
            "Testing Accuarcy:  0.9179613452932325\n",
            "              precision    recall  f1-score   support\n",
            "\n",
            "         0.0       0.90      0.94      0.92     25562\n",
            "         1.0       0.93      0.90      0.92     25609\n",
            "\n",
            "    accuracy                           0.92     51171\n",
            "   macro avg       0.92      0.92      0.92     51171\n",
            "weighted avg       0.92      0.92      0.92     51171\n",
            "\n"
          ],
          "name": "stdout"
        },
        {
          "output_type": "execute_result",
          "data": {
            "text/plain": [
              "<matplotlib.axes._subplots.AxesSubplot at 0x7f9750789990>"
            ]
          },
          "metadata": {
            "tags": []
          },
          "execution_count": 204
        },
        {
          "output_type": "display_data",
          "data": {
            "image/png": "[encoded data removed]",
            "text/plain": [
              "<Figure size 432x288 with 2 Axes>"
            ]
          },
          "metadata": {
            "tags": [],
            "needs_background": "light"
          }
        }
      ]
    },
    {
      "cell_type": "code",
      "metadata": {
        "colab": {
          "base_uri": "https://localhost:8080/"
        },
        "id": "bKpyfjIYoSP3",
        "outputId": "b34d0ad7-db97-4d0a-fe1e-4a2cc2ab799d"
      },
      "source": [
        "from sklearn.metrics import roc_auc_score\n",
        "print(\"auc score =\\t\" ,roc_auc_score(y_valid, y_predxg))"
      ],
      "execution_count": null,
      "outputs": [
        {
          "output_type": "stream",
          "text": [
            "auc score =\t 0.9485296215639949\n"
          ],
          "name": "stdout"
        }
      ]
    },
    {
      "cell_type": "code",
      "metadata": {
        "colab": {
          "base_uri": "https://localhost:8080/"
        },
        "id": "eWq1GVjvoSP4",
        "outputId": "a8f20405-0869-4d13-b7b3-ee677bc4ddc2"
      },
      "source": [
        "# getting the avg precision score\n",
        "from sklearn.metrics import average_precision_score\n",
        "\n",
        "apc = average_precision_score(y_valid, y_predada)\n",
        "print('Average Precision Score :', apc)"
      ],
      "execution_count": null,
      "outputs": [
        {
          "output_type": "stream",
          "text": [
            "Average Precision Score : 0.8900665556079694\n"
          ],
          "name": "stdout"
        }
      ]
    },
    {
      "cell_type": "code",
      "metadata": {
        "colab": {
          "base_uri": "https://localhost:8080/",
          "height": 471
        },
        "id": "jc59PFrFoSP5",
        "outputId": "07a93578-105f-401d-dfc4-3b4881b2bd12"
      },
      "source": [
        "# light boost classifier\n",
        "\n",
        "from lightgbm import LGBMClassifier\n",
        "from sklearn.metrics import confusion_matrix\n",
        "from sklearn.metrics import classification_report\n",
        "\n",
        "model_lgb = LGBMClassifier()\n",
        "model_lgb.fit(x_train, y_train)\n",
        "\n",
        "y_pred = model_lgb.predict(x_valid)\n",
        "\n",
        "print(\"Training Accuracy: \", model_lgb.score(x_train, y_train))\n",
        "print('Testing Accuarcy: ', model_lgb.score(x_valid, y_valid))\n",
        "\n",
        "# making a classification report\n",
        "cr = classification_report(y_valid,  y_pred)\n",
        "print(cr)\n",
        "\n",
        "# making a confusion matrix\n",
        "cm = confusion_matrix(y_valid, y_pred)\n",
        "sns.heatmap(cm, annot = True)"
      ],
      "execution_count": null,
      "outputs": [
        {
          "output_type": "stream",
          "text": [
            "Training Accuracy:  0.9685611408861508\n",
            "Testing Accuarcy:  0.9667976002032401\n",
            "              precision    recall  f1-score   support\n",
            "\n",
            "         0.0       0.95      0.99      0.97     25562\n",
            "         1.0       0.99      0.94      0.97     25609\n",
            "\n",
            "    accuracy                           0.97     51171\n",
            "   macro avg       0.97      0.97      0.97     51171\n",
            "weighted avg       0.97      0.97      0.97     51171\n",
            "\n"
          ],
          "name": "stdout"
        },
        {
          "output_type": "execute_result",
          "data": {
            "text/plain": [
              "<matplotlib.axes._subplots.AxesSubplot at 0x7f9760208190>"
            ]
          },
          "metadata": {
            "tags": []
          },
          "execution_count": 209
        },
        {
          "output_type": "display_data",
          "data": {
            "image/png": "[encoded data removed]",
            "text/plain": [
              "<Figure size 432x288 with 2 Axes>"
            ]
          },
          "metadata": {
            "tags": [],
            "needs_background": "light"
          }
        }
      ]
    },
    {
      "cell_type": "code",
      "metadata": {
        "colab": {
          "base_uri": "https://localhost:8080/"
        },
        "id": "bHHXIx0ZoSP5",
        "outputId": "7b110dc4-269f-4183-e7e6-7dc45b7affef"
      },
      "source": [
        "from sklearn.metrics import roc_auc_score\n",
        "print(\"auc score =\\t\" ,roc_auc_score(y_valid, y_pred))"
      ],
      "execution_count": null,
      "outputs": [
        {
          "output_type": "stream",
          "text": [
            "auc score =\t 0.9668176575937447\n"
          ],
          "name": "stdout"
        }
      ]
    },
    {
      "cell_type": "code",
      "metadata": {
        "colab": {
          "base_uri": "https://localhost:8080/",
          "height": 469
        },
        "id": "QATRcfiNoSP6",
        "outputId": "678e98fd-f2a9-43d0-ce1a-ed724198bdc7"
      },
      "source": [
        "# GAUSSIAN NAIVE BAYES CLASSIFIER\n",
        "\n",
        "from sklearn.naive_bayes import GaussianNB\n",
        "from sklearn.metrics import confusion_matrix\n",
        "from sklearn.metrics import classification_report\n",
        "\n",
        "gnb = GaussianNB()\n",
        "gnb.fit(x_train, y_train)\n",
        "y_prednb = gnb.predict(x_valid)\n",
        "  \n",
        "print(\"Training Accuracy: \", gnb.score(x_train, y_train))\n",
        "print('Testing Accuarcy: ', gnb.score(x_valid, y_valid))\n",
        "\n",
        "# making a classification report\n",
        "cr = classification_report(y_valid,  y_prednb)\n",
        "print(cr)\n",
        "\n",
        "# making a confusion matrix\n",
        "cm = confusion_matrix(y_valid, y_prednb)\n",
        "sns.heatmap(cm, annot = True)"
      ],
      "execution_count": null,
      "outputs": [
        {
          "output_type": "stream",
          "text": [
            "Training Accuracy:  0.6783611731311345\n",
            "Testing Accuarcy:  0.6750503214711457\n",
            "              precision    recall  f1-score   support\n",
            "\n",
            "         0.0       0.84      0.43      0.57     25562\n",
            "         1.0       0.62      0.92      0.74     25609\n",
            "\n",
            "    accuracy                           0.68     51171\n",
            "   macro avg       0.73      0.67      0.65     51171\n",
            "weighted avg       0.73      0.68      0.65     51171\n",
            "\n"
          ],
          "name": "stdout"
        },
        {
          "output_type": "execute_result",
          "data": {
            "text/plain": [
              "<matplotlib.axes._subplots.AxesSubplot at 0x7fd15572f550>"
            ]
          },
          "metadata": {
            "tags": []
          },
          "execution_count": 66
        },
        {
          "output_type": "display_data",
          "data": {
            "image/png": "[encoded data removed]",
            "text/plain": [
              "<Figure size 432x288 with 2 Axes>"
            ]
          },
          "metadata": {
            "tags": [],
            "needs_background": "light"
          }
        }
      ]
    },
    {
      "cell_type": "code",
      "metadata": {
        "id": "I2Gw9TmsoSP7"
      },
      "source": [
        ""
      ],
      "execution_count": null,
      "outputs": []
    },
    {
      "cell_type": "code",
      "metadata": {
        "id": "CgJUK6AAoSP7"
      },
      "source": [
        ""
      ],
      "execution_count": null,
      "outputs": []
    }
  ]
}